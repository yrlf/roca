{
 "cells": [
  {
   "attachments": {},
   "cell_type": "markdown",
   "metadata": {},
   "source": [
    "# AntiCausal"
   ]
  },
  {
   "cell_type": "code",
   "execution_count": 6,
   "metadata": {
    "pycharm": {
     "is_executing": true
    }
   },
   "outputs": [],
   "source": [
    "import pandas as pd\n",
    "import numpy as np\n",
    "import matplotlib.pyplot as plt"
   ]
  },
  {
   "attachments": {},
   "cell_type": "markdown",
   "metadata": {},
   "source": [
    "# pairs"
   ]
  },
  {
   "cell_type": "code",
   "execution_count": 21,
   "metadata": {},
   "outputs": [
    {
     "name": "stdout",
     "output_type": "stream",
     "text": [
      "/Users/yangz/Library/CloudStorage/OneDrive-个人/~STUDY/Usyd/Honours_Research/CDnoise/001_causal_discovery\n",
      "      0    1\n",
      "0  14.0  1.0\n",
      "1  14.0  1.0\n",
      "2   4.0  0.0\n",
      "3  10.0  1.0\n",
      "4  14.0  1.0\n"
     ]
    }
   ],
   "source": [
    "filename = \"pair0070\"\n",
    "!pwd\n",
    "# Read the data\n",
    "df = pd.read_csv(\"datasets/\"+filename+\"/\"+filename + \".csv\", header=None)\n",
    "print(df.head())\n",
    "\n",
    "# normalize min max the data except the last column\n",
    "df.iloc[:, :-1] = (df.iloc[:, :-1] - df.iloc[:, :-1].min()) / (df.iloc[:, :-1].max() - df.iloc[:, :-1].min())\n",
    "\n",
    "df.to_csv(\"datasets/\"+filename+\"/\"+filename + \"_train.csv\", header=None, index=None)\n",
    "df.to_csv(\"datasets/\"+filename+\"/\"+filename + \"_test.csv\", header=None, index=None)"
   ]
  },
  {
   "cell_type": "code",
   "execution_count": 24,
   "metadata": {},
   "outputs": [
    {
     "name": "stdout",
     "output_type": "stream",
     "text": [
      "/Users/yangz/Library/CloudStorage/OneDrive-个人/~STUDY/Usyd/Honours_Research/CDnoise/001_causal_discovery\n",
      "       0  1\n",
      "0      0  1\n",
      "1   7679  1\n",
      "2    152  1\n",
      "3  17232  2\n",
      "4  28829  2\n"
     ]
    }
   ],
   "source": [
    "filename = \"pair0047\"\n",
    "!pwd\n",
    "# Read the data\n",
    "df = pd.read_csv(\"datasets/\"+filename+\"/\"+filename + \".csv\", header=None)\n",
    "print(df.head())\n"
   ]
  },
  {
   "cell_type": "code",
   "execution_count": 25,
   "metadata": {},
   "outputs": [],
   "source": [
    "\n",
    "# normalize min max the data except the last column\n",
    "df.iloc[:, :-1] = (df.iloc[:, :-1] - df.iloc[:, :-1].min()) / (df.iloc[:, :-1].max() - df.iloc[:, :-1].min())\n",
    "df.iloc[:,1]=df.iloc[:,1].replace({1:0, 2:1})\n",
    "df.to_csv(\"datasets/\"+filename+\"/\"+filename + \"_train.csv\", header=None, index=None)\n",
    "df.to_csv(\"datasets/\"+filename+\"/\"+filename + \"_test.csv\", header=None, index=None)"
   ]
  },
  {
   "cell_type": "code",
   "execution_count": 28,
   "metadata": {},
   "outputs": [
    {
     "name": "stdout",
     "output_type": "stream",
     "text": [
      "/Users/yangz/Library/CloudStorage/OneDrive-个人/~STUDY/Usyd/Honours_Research/CDnoise/001_causal_discovery\n",
      "       0  1\n",
      "0  0.045  1\n",
      "1  0.040  1\n",
      "2  0.045  1\n",
      "3  0.040  1\n",
      "4  0.030  1\n"
     ]
    }
   ],
   "source": [
    "filename = \"pair0107\"\n",
    "!pwd\n",
    "# Read the data\n",
    "df = pd.read_csv(\"datasets/\"+filename+\"/\"+filename + \".csv\", header=None)\n",
    "print(df.head())\n"
   ]
  },
  {
   "cell_type": "code",
   "execution_count": 31,
   "metadata": {},
   "outputs": [
    {
     "name": "stdout",
     "output_type": "stream",
     "text": [
      "/Users/yangz/Library/CloudStorage/OneDrive-个人/~STUDY/Usyd/Honours_Research/CDnoise/001_causal_discovery\n",
      "      0  1  2  3  4  5  6  7\n",
      "0  35.5  0  1  0  0  0  0  0\n",
      "1  35.9  0  0  1  1  1  1  0\n",
      "2  35.9  0  1  0  0  0  0  0\n",
      "3  36.0  0  0  1  1  1  1  0\n",
      "4  36.0  0  1  0  0  0  0  0\n"
     ]
    }
   ],
   "source": [
    "filename = \"pair0071\"\n",
    "!pwd\n",
    "# Read the data\n",
    "df = pd.read_csv(\"datasets/\"+filename+\"/\"+filename + \".csv\", header=None)\n",
    "print(df.head())\n",
    "\n",
    "# drop the last column\n",
    "df = df.drop(df.columns[-1], axis=1)\n",
    "df.to_csv(\"datasets/\"+filename+\"/\"+filename + \"_train.csv\", header=None, index=None)\n",
    "df.to_csv(\"datasets/\"+filename+\"/\"+filename + \"_test.csv\", header=None, index=None)\n"
   ]
  },
  {
   "cell_type": "code",
   "execution_count": 14,
   "metadata": {},
   "outputs": [
    {
     "data": {
      "text/plain": [
       "Text(0.5, 1.0, 'Histogram of X values by Y groups (Pair0107)')"
      ]
     },
     "execution_count": 14,
     "metadata": {},
     "output_type": "execute_result"
    },
    {
     "data": {
      "image/png": "[encoded data removed]",
      "text/plain": [
       "<Figure size 640x480 with 1 Axes>"
      ]
     },
     "metadata": {},
     "output_type": "display_data"
    }
   ],
   "source": [
    "# read data pair0107\n",
    "df = pd.read_csv(\"datasets/pair0107/pair0107.csv\", header=None)\n",
    "# plot histogram for y=0 and y=1 respectively in a subplot\n",
    "\n",
    "df.columns = ['values','y']\n",
    "# Separate data for y=0 and y=1\n",
    "x_y0 = df[df.iloc[:, -1]==0]\n",
    "x_y1 = df[df.iloc[:, -1]==1]\n",
    "x_y0 = df.loc[df['y'] == 0, 'values']\n",
    "x_y1 = df.loc[df['y'] == 1, 'values']\n",
    "\n",
    "# Create a histogram with two groups\n",
    "plt.hist([x_y0, x_y1], label=['Y=0', 'Y=1'])\n",
    "\n",
    "# Add legend and labels\n",
    "plt.legend()\n",
    "plt.xlabel('Values')\n",
    "plt.ylabel('Frequency')\n",
    "plt.title('Histogram of X values by Y groups (Pair0107)')"
   ]
  },
  {
   "attachments": {},
   "cell_type": "markdown",
   "metadata": {},
   "source": [
    "## breastTumor\n",
    "http://archive.ics.uci.edu/ml/datasets/Breast+Cancer\n",
    "\n"
   ]
  },
  {
   "cell_type": "code",
   "execution_count": 14,
   "metadata": {},
   "outputs": [
    {
     "name": "stdout",
     "output_type": "stream",
     "text": [
      "0    218\n",
      "1     68\n",
      "Name: 9, dtype: int64\n"
     ]
    }
   ],
   "source": [
    "data = pd.read_csv('./datasets/breastcancer/breast-cancer.data', header=None)\n",
    "df = pd.DataFrame(data)\n",
    "\n",
    "# drop na\n",
    "df = df.dropna()\n",
    "\n",
    "for i in range(0,10):\n",
    "    df.iloc[:,i],_ = df.iloc[:,i].factorize()\n",
    "\n",
    "print(df.iloc[:,9].value_counts())\n",
    "\n",
    "df.to_csv('./datasets/breastcancer/breastcancer_train.csv', index=False)\n",
    "df.to_csv('./datasets/breastcancer/breastcancer_test.csv', index=False)"
   ]
  },
  {
   "attachments": {},
   "cell_type": "markdown",
   "metadata": {},
   "source": [
    "## cholesterol\n",
    "\n",
    "used only cleveland data (less missing values)"
   ]
  },
  {
   "cell_type": "code",
   "execution_count": 16,
   "metadata": {},
   "outputs": [],
   "source": [
    "# contains many missing values\n",
    "data = pd.read_csv('./datasets/cholesterol/processed.cleveland.data', header=None)\n",
    "df = pd.DataFrame(data)\n",
    "df = df.dropna()\n",
    "\n",
    "df.to_csv('./datasets/cholesterol/cholesterol_train.csv', index=False)\n",
    "df.to_csv('./datasets/cholesterol/cholesterol_test.csv', index=False)"
   ]
  },
  {
   "attachments": {},
   "cell_type": "markdown",
   "metadata": {},
   "source": [
    "## breast-w (26 UCI datasets)\n"
   ]
  },
  {
   "cell_type": "code",
   "execution_count": 34,
   "metadata": {},
   "outputs": [],
   "source": [
    "data=pd.read_csv('./datasets/wdbc/wdbc.data',header=None)\n",
    "df=pd.DataFrame(data)\n",
    "df=df.dropna()\n",
    "\n",
    "# drop id\n",
    "df=df.drop(0,axis=1)\n",
    "# swap label and last column\n",
    "df[[1,31]]=df[[31,1]]\n",
    "# recode last column, M=1, B=0\n",
    "df=df.replace('M',1)\n",
    "df=df.replace('B',0)\n",
    "df.to_csv('./datasets/wdbc/wdbc_train.csv',index=False)\n",
    "df.to_csv('./datasets/wdbc/wdbc_test.csv',index=False)"
   ]
  },
  {
   "attachments": {},
   "cell_type": "markdown",
   "metadata": {},
   "source": [
    "## hepatitis"
   ]
  },
  {
   "cell_type": "code",
   "execution_count": 58,
   "metadata": {},
   "outputs": [],
   "source": [
    "data = pd.read_csv('./datasets/hepatitis/hepatitis.data', header=None)\n",
    "df = pd.DataFrame(data)\n",
    "df = df.replace('?', np.nan)\n",
    "df = df.dropna()\n",
    "# count the last column\n",
    "df.iloc[:,19].value_counts()\n",
    "\n",
    "df.to_csv('./datasets/hepatitis/hepatitis_train.csv', index=False)\n",
    "df.to_csv('./datasets/hepatitis/hepatitis_test.csv', index=False)"
   ]
  },
  {
   "attachments": {},
   "cell_type": "markdown",
   "metadata": {},
   "source": [
    "## iris"
   ]
  },
  {
   "cell_type": "code",
   "execution_count": 47,
   "metadata": {},
   "outputs": [],
   "source": [
    "data=pd.read_csv('./datasets/iris/iris.data',header=None)\n",
    "df=pd.DataFrame(data)\n",
    "df=df.dropna()\n",
    "# recode last column\n",
    "df=df.replace('Iris-setosa',0)\n",
    "df=df.replace('Iris-versicolor',1)\n",
    "df=df.replace('Iris-virginica',2)\n",
    "\n",
    "df.to_csv('./datasets/iris/iris_train.csv',index=False)\n",
    "df.to_csv('./datasets/iris/iris_test.csv',index=False)"
   ]
  },
  {
   "attachments": {},
   "cell_type": "markdown",
   "metadata": {},
   "source": [
    "## letter"
   ]
  },
  {
   "cell_type": "code",
   "execution_count": 54,
   "metadata": {},
   "outputs": [],
   "source": [
    "data=pd.read_csv('./datasets/letter/letter-recognition.data',header=None)\n",
    "df=pd.DataFrame(data)\n",
    "df=df.dropna()\n",
    "# recode first column and move it to the last\n",
    "df.iloc[:,0],_ = df.iloc[:,0].factorize()\n",
    "df[[0,16]]=df[[16,0]]\n",
    "\n",
    "\n",
    "df.to_csv('./datasets/letter/letter_train.csv',index=False)\n",
    "df.to_csv('./datasets/letter/letter_test.csv',index=False)\n",
    "\n"
   ]
  },
  {
   "attachments": {},
   "cell_type": "markdown",
   "metadata": {},
   "source": [
    "## mushroom\n"
   ]
  },
  {
   "cell_type": "code",
   "execution_count": 66,
   "metadata": {},
   "outputs": [],
   "source": [
    "data=pd.read_csv('./datasets/mushroom/agaricus-lepiota.data',header=None)\n",
    "df=pd.DataFrame(data)\n",
    "df.replace('?',np.nan,inplace=True)\n",
    "df=df.dropna()\n",
    "\n",
    "for i in range(0,23):\n",
    "    df.iloc[:,i],_ = df.iloc[:,i].factorize()\n",
    "\n",
    "# move column 0 to the last\n",
    "df[[0,22]]=df[[22,0]]\n",
    "\n",
    "df.to_csv('./datasets/mushroom/mushroom_train.csv',index=False)\n",
    "df.to_csv('./datasets/mushroom/mushroom_test.csv',index=False)"
   ]
  },
  {
   "attachments": {},
   "cell_type": "markdown",
   "metadata": {},
   "source": [
    "## segment"
   ]
  },
  {
   "cell_type": "code",
   "execution_count": 72,
   "metadata": {},
   "outputs": [],
   "source": [
    "data=pd.read_csv('./datasets/segment/segmentation.data',header=None)\n",
    "df=pd.DataFrame(data)\n",
    "#df=df.replace('?',np.nan,inplace=True)\n",
    "df=df.dropna()\n",
    "\n",
    "#recoding column 0\n",
    "df.iloc[:,0],_ = df.iloc[:,0].factorize()\n",
    "# move column 0 to the last\n",
    "df[[0,19]]=df[[19,0]]\n",
    "\n",
    "df.to_csv('./datasets/segment/segment_train.csv',index=False)\n",
    "df.to_csv('./datasets/segment/segment_test.csv',index=False)"
   ]
  },
  {
   "attachments": {},
   "cell_type": "markdown",
   "metadata": {},
   "source": [
    "## sonar"
   ]
  },
  {
   "cell_type": "code",
   "execution_count": 75,
   "metadata": {},
   "outputs": [],
   "source": [
    "data=pd.read_csv('./datasets/sonar/sonar.all-data',header=None)\n",
    "df=pd.DataFrame(data)\n",
    "df=df.dropna()\n",
    "\n",
    "# record last column\n",
    "df.iloc[:,60],_ = df.iloc[:,60].factorize()\n",
    "df.to_csv('./datasets/sonar/sonar_train.csv',index=False)\n",
    "df.to_csv('./datasets/sonar/sonar_test.csv',index=False)"
   ]
  },
  {
   "attachments": {},
   "cell_type": "markdown",
   "metadata": {},
   "source": [
    "## vowel (context)"
   ]
  },
  {
   "cell_type": "code",
   "execution_count": 86,
   "metadata": {},
   "outputs": [],
   "source": [
    "data = pd.read_csv('./datasets/vowel/vowel-context.csv',header=None)\n",
    "df = pd.DataFrame(data)\n",
    "\n",
    "df = df.dropna()\n",
    "# recode column 13\n",
    "df.iloc[:,13],_ = df.iloc[:,13].factorize()\n",
    "df.to_csv('./datasets/vowel/vowel_train.csv',index=False)\n",
    "df.to_csv('./datasets/vowel/vowel_test.csv',index=False)"
   ]
  },
  {
   "attachments": {},
   "cell_type": "markdown",
   "metadata": {},
   "source": [
    "## yxguassian 200"
   ]
  },
  {
   "cell_type": "code",
   "execution_count": 5,
   "metadata": {},
   "outputs": [],
   "source": [
    "df=pd.read_csv('./datasets/yxguassian/yxguassian_train.csv',header=None)\n",
    "\n",
    "# randomly sample 200 rows\n",
    "df=df.sample(n=200,random_state=1)\n",
    "df.to_csv('./datasets/yxguassian/yxguassian200_train.csv',index=False)\n",
    "df.to_csv('./datasets/yxguassian/yxguassian200_test.csv',index=False)"
   ]
  },
  {
   "cell_type": "code",
   "execution_count": 7,
   "metadata": {},
   "outputs": [],
   "source": [
    "df=pd.read_csv('./datasets/yxguassian/yxguassian_train.csv',header=None)\n",
    "\n",
    "# randomly sample 5000 rows\n",
    "df=df.sample(n=5000,random_state=1)\n",
    "df.to_csv('./datasets/yxguassian/yxguassian5000_train.csv',index=False,header=None)\n",
    "df.to_csv('./datasets/yxguassian/yxguassian5000_test.csv',index=False,header=None)\n",
    "\n",
    "df=pd.read_csv('./datasets/yxguassian/yxguassian_train.csv',header=None)\n",
    "# randomly sample 1000 rows\n",
    "df=df.sample(n=1000,random_state=1)\n",
    "df.to_csv('./datasets/yxguassian/yxguassian1000_train.csv',index=False,header=None)\n",
    "df.to_csv('./datasets/yxguassian/yxguassian1000_test.csv',index=False,header=None)"
   ]
  },
  {
   "attachments": {},
   "cell_type": "markdown",
   "metadata": {},
   "source": [
    "## Datasets that are not available\n",
    "\n",
    "lowbwt: fail to load data\n",
    "\n",
    "pbc: fail to load data\n",
    "\n",
    "pollution: regression task (https://www4.stat.ncsu.edu/~boos/var.select/pollution.html)\n",
    "\n",
    "wisconsin: fail to load data\n",
    "\n",
    "mpg: regression\n",
    "\n",
    "UCI:\n",
    "\n",
    "diabetes: instance not available\n",
    "\n",
    "labor: not typical datasets"
   ]
  },
  {
   "attachments": {},
   "cell_type": "markdown",
   "metadata": {},
   "source": [
    "# Causal"
   ]
  },
  {
   "attachments": {},
   "cell_type": "markdown",
   "metadata": {},
   "source": [
    "## splice"
   ]
  },
  {
   "cell_type": "code",
   "execution_count": 38,
   "metadata": {},
   "outputs": [],
   "source": [
    "data=pd.read_csv('./datasets/splice2/splice.data',header=None)\n",
    "\n",
    "#remove space in column 2\n",
    "data.iloc[:,2]=data.iloc[:,2].str.replace(' ','')\n",
    "# seperate each character in column 2 with comma\n",
    "data.iloc[:,2]=data.iloc[:,2].str.split('').str.join(',')\n",
    "# split column 2 into 60 columns\n",
    "data=data.join(data.iloc[:,2].str.split(',',expand=True).add_prefix('col'))\n",
    "# drop column 2\n",
    "data=data.drop(2,axis=1)\n",
    "# drop column 'col0'\n",
    "data=data.drop('col0',axis=1)\n",
    "# drop 2nd column\n",
    "data=data.drop(1,axis=1)\n",
    "# factorize all columns\n",
    "data=data.apply(lambda x: pd.factorize(x)[0])\n",
    "# drop column 61\n",
    "data=data.drop('col61',axis=1)\n",
    "# swap column 0 and 60\n",
    "data['class']=data[0]\n",
    "data=data.drop(0,axis=1)\n",
    "# balance class column by subsampling\n",
    "\n",
    "# drop 50% of class 2\n",
    "data2=data[data['class']==2].sample(frac=0.5,random_state=1)\n",
    "# combine data2 with data 1 (all class 0 and 1)\n",
    "data_balance=pd.concat([data[data['class']==0],data[data['class']==1],data2])\n",
    "\n",
    "data_balance['class'].value_counts()\n",
    "\n",
    "\n",
    "data_balance.to_csv('./datasets/splice2/splice2balance_train.csv',index=False,header=False)\n",
    "data_balance.to_csv('./datasets/splice2/splice2balance_test.csv',index=False,header=False)\n",
    "# write data to csv\n",
    "#data.to_csv('./datasets/splice2/splice22.csv',index=False)"
   ]
  },
  {
   "cell_type": "code",
   "execution_count": 4,
   "metadata": {},
   "outputs": [],
   "source": [
    "data=pd.read_csv('./datasets/splice2/splice.data',header=None)\n",
    "\n",
    "#remove space in column 2\n",
    "data.iloc[:,2]=data.iloc[:,2].str.replace(' ','')\n",
    "# seperate each character in column 2 with comma\n",
    "data.iloc[:,2]=data.iloc[:,2].str.split('').str.join(',')\n",
    "# split column 2 into 60 columns\n",
    "data=data.join(data.iloc[:,2].str.split(',',expand=True).add_prefix('col'))\n",
    "# drop column 2\n",
    "data=data.drop(2,axis=1)\n",
    "# drop column 'col0'\n",
    "data=data.drop('col0',axis=1)\n",
    "# drop 2nd column\n",
    "data=data.drop(1,axis=1)\n",
    "# factorize all columns\n",
    "data=data.apply(lambda x: pd.factorize(x)[0])\n",
    "# drop column 61\n",
    "data=data.drop('col61',axis=1)\n",
    "# swap column 0 and 60\n",
    "data['class']=data[0]\n",
    "data=data.drop(0,axis=1)\n",
    "# balance class column by subsampling\n",
    "\n",
    "data['class'].value_counts()\n",
    "\n",
    "\n",
    "data.to_csv('./datasets/splice2/splice2imbalance_train.csv',index=False,header=False)\n",
    "data.to_csv('./datasets/splice2/splice2imbalance_test.csv',index=False,header=False)\n",
    "# write data to csv\n",
    "#data.to_csv('./datasets/splice2/splice22.csv',index=False)"
   ]
  },
  {
   "attachments": {},
   "cell_type": "markdown",
   "metadata": {},
   "source": [
    "# xyguassian (imbalance+20000)"
   ]
  },
  {
   "cell_type": "code",
   "execution_count": 15,
   "metadata": {},
   "outputs": [
    {
     "data": {
      "text/html": [
       "<div>\n",
       "<style scoped>\n",
       "    .dataframe tbody tr th:only-of-type {\n",
       "        vertical-align: middle;\n",
       "    }\n",
       "\n",
       "    .dataframe tbody tr th {\n",
       "        vertical-align: top;\n",
       "    }\n",
       "\n",
       "    .dataframe thead th {\n",
       "        text-align: right;\n",
       "    }\n",
       "</style>\n",
       "<table border=\"1\" class=\"dataframe\">\n",
       "  <thead>\n",
       "    <tr style=\"text-align: right;\">\n",
       "      <th></th>\n",
       "      <th>0</th>\n",
       "      <th>1</th>\n",
       "      <th>2</th>\n",
       "      <th>3</th>\n",
       "      <th>4</th>\n",
       "      <th>5</th>\n",
       "    </tr>\n",
       "  </thead>\n",
       "  <tbody>\n",
       "    <tr>\n",
       "      <th>0</th>\n",
       "      <td>-0.833353</td>\n",
       "      <td>2.115076</td>\n",
       "      <td>-0.908574</td>\n",
       "      <td>1.301986</td>\n",
       "      <td>0.732642</td>\n",
       "      <td>0</td>\n",
       "    </tr>\n",
       "    <tr>\n",
       "      <th>1</th>\n",
       "      <td>0.221039</td>\n",
       "      <td>2.187506</td>\n",
       "      <td>-1.899302</td>\n",
       "      <td>0.223888</td>\n",
       "      <td>-0.402945</td>\n",
       "      <td>0</td>\n",
       "    </tr>\n",
       "    <tr>\n",
       "      <th>2</th>\n",
       "      <td>-0.540546</td>\n",
       "      <td>-0.413336</td>\n",
       "      <td>-0.121446</td>\n",
       "      <td>1.483350</td>\n",
       "      <td>-0.054098</td>\n",
       "      <td>0</td>\n",
       "    </tr>\n",
       "    <tr>\n",
       "      <th>3</th>\n",
       "      <td>-0.944330</td>\n",
       "      <td>-0.224767</td>\n",
       "      <td>-0.978648</td>\n",
       "      <td>-0.811287</td>\n",
       "      <td>0.021669</td>\n",
       "      <td>0</td>\n",
       "    </tr>\n",
       "    <tr>\n",
       "      <th>4</th>\n",
       "      <td>0.057579</td>\n",
       "      <td>-0.656411</td>\n",
       "      <td>-0.164759</td>\n",
       "      <td>-0.375539</td>\n",
       "      <td>-1.828999</td>\n",
       "      <td>0</td>\n",
       "    </tr>\n",
       "    <tr>\n",
       "      <th>...</th>\n",
       "      <td>...</td>\n",
       "      <td>...</td>\n",
       "      <td>...</td>\n",
       "      <td>...</td>\n",
       "      <td>...</td>\n",
       "      <td>...</td>\n",
       "    </tr>\n",
       "    <tr>\n",
       "      <th>19995</th>\n",
       "      <td>0.844116</td>\n",
       "      <td>0.642816</td>\n",
       "      <td>0.505366</td>\n",
       "      <td>0.210878</td>\n",
       "      <td>0.692956</td>\n",
       "      <td>0</td>\n",
       "    </tr>\n",
       "    <tr>\n",
       "      <th>19996</th>\n",
       "      <td>0.577542</td>\n",
       "      <td>-1.332229</td>\n",
       "      <td>1.135971</td>\n",
       "      <td>0.013224</td>\n",
       "      <td>0.223909</td>\n",
       "      <td>0</td>\n",
       "    </tr>\n",
       "    <tr>\n",
       "      <th>19997</th>\n",
       "      <td>-0.574657</td>\n",
       "      <td>0.640629</td>\n",
       "      <td>-0.287878</td>\n",
       "      <td>-0.537787</td>\n",
       "      <td>-0.769731</td>\n",
       "      <td>1</td>\n",
       "    </tr>\n",
       "    <tr>\n",
       "      <th>19998</th>\n",
       "      <td>0.161613</td>\n",
       "      <td>-0.300043</td>\n",
       "      <td>0.255953</td>\n",
       "      <td>-0.921217</td>\n",
       "      <td>0.293135</td>\n",
       "      <td>0</td>\n",
       "    </tr>\n",
       "    <tr>\n",
       "      <th>19999</th>\n",
       "      <td>-0.722645</td>\n",
       "      <td>0.912993</td>\n",
       "      <td>1.141821</td>\n",
       "      <td>-1.115390</td>\n",
       "      <td>-0.255491</td>\n",
       "      <td>1</td>\n",
       "    </tr>\n",
       "  </tbody>\n",
       "</table>\n",
       "<p>20000 rows × 6 columns</p>\n",
       "</div>"
      ],
      "text/plain": [
       "              0         1         2         3         4  5\n",
       "0     -0.833353  2.115076 -0.908574  1.301986  0.732642  0\n",
       "1      0.221039  2.187506 -1.899302  0.223888 -0.402945  0\n",
       "2     -0.540546 -0.413336 -0.121446  1.483350 -0.054098  0\n",
       "3     -0.944330 -0.224767 -0.978648 -0.811287  0.021669  0\n",
       "4      0.057579 -0.656411 -0.164759 -0.375539 -1.828999  0\n",
       "...         ...       ...       ...       ...       ... ..\n",
       "19995  0.844116  0.642816  0.505366  0.210878  0.692956  0\n",
       "19996  0.577542 -1.332229  1.135971  0.013224  0.223909  0\n",
       "19997 -0.574657  0.640629 -0.287878 -0.537787 -0.769731  1\n",
       "19998  0.161613 -0.300043  0.255953 -0.921217  0.293135  0\n",
       "19999 -0.722645  0.912993  1.141821 -1.115390 -0.255491  1\n",
       "\n",
       "[20000 rows x 6 columns]"
      ]
     },
     "execution_count": 15,
     "metadata": {},
     "output_type": "execute_result"
    }
   ],
   "source": [
    "data=pd.read_csv('./datasets/xyguassian/xyguassian_train.csv',header=None)\n",
    "\n",
    "df=pd.DataFrame(data)\n",
    "df"
   ]
  },
  {
   "cell_type": "code",
   "execution_count": 25,
   "metadata": {},
   "outputs": [],
   "source": [
    "\n",
    "# select 7000 instance where 6th column is 1\n",
    "\n",
    "df1=df[df[5]==1].sample(n=2000,random_state=1)\n",
    "# select all class 0\n",
    "df0=df[df[5]==0]\n",
    "# combine class 0 and 1\n",
    "df=pd.concat([df0,df1])\n",
    "df.iloc[:,5].value_counts()\n",
    "df.to_csv('./datasets/xyguassian/xyguassianimba82_train.csv',index=False,header=False)\n",
    "df.to_csv('./datasets/xyguassian/xyguassianimba82_test.csv',index=False,header=False)"
   ]
  },
  {
   "cell_type": "markdown",
   "metadata": {},
   "source": [
    "## "
   ]
  }
 ],
 "metadata": {
  "kernelspec": {
   "display_name": "base",
   "language": "python",
   "name": "python3"
  },
  "language_info": {
   "codemirror_mode": {
    "name": "ipython",
    "version": 3
   },
   "file_extension": ".py",
   "mimetype": "text/x-python",
   "name": "python",
   "nbconvert_exporter": "python",
   "pygments_lexer": "ipython3",
   "version": "3.9.13"
  },
  "orig_nbformat": 4,
  "vscode": {
   "interpreter": {
    "hash": "c3591addd683510cbadcaedbdce8279f658b9485bf1a32480da690c72c37168e"
   }
  }
 },
 "nbformat": 4,
 "nbformat_minor": 2
}
