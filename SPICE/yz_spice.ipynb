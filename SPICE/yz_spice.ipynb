{
 "cells": [
  {
   "cell_type": "code",
   "execution_count": 1,
   "metadata": {},
   "outputs": [],
   "source": [
    "from __future__ import print_function, division\n",
    "import warnings\n",
    "\n",
    "import os\n",
    "import torch\n",
    "import sys\n",
    "sys.path.insert(0, './')\n",
    "warnings.filterwarnings('ignore')\n",
    "\n",
    "\n",
    "from fixmatch.datasets.data_utils import get_data_loader\n",
    "from fixmatch.datasets.ssl_dataset_robust import SSL_Dataset\n",
    "from fixmatch.utils import net_builder\n",
    "\n",
    "import numpy as np\n",
    "from scipy.optimize import linear_sum_assignment\n",
    "from sklearn import metrics\n"
   ]
  },
  {
   "cell_type": "code",
   "execution_count": 3,
   "metadata": {},
   "outputs": [],
   "source": [
    "load_model = torch.load('model_cifar10_cls.pth',map_location=torch.device('cpu'))\n",
    "\n"
   ]
  }
 ],
 "metadata": {
  "kernelspec": {
   "display_name": "Python 3.9.0 ('al')",
   "language": "python",
   "name": "python3"
  },
  "language_info": {
   "codemirror_mode": {
    "name": "ipython",
    "version": 3
   },
   "file_extension": ".py",
   "mimetype": "text/x-python",
   "name": "python",
   "nbconvert_exporter": "python",
   "pygments_lexer": "ipython3",
   "version": "3.9.0"
  },
  "orig_nbformat": 4,
  "vscode": {
   "interpreter": {
    "hash": "410387e4bb6056df1e8fba72755cd1379fbde9775ae114a23afab7a71b2c10e7"
   }
  }
 },
 "nbformat": 4,
 "nbformat_minor": 2
}
