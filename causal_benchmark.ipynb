{
 "cells": [
  {
   "cell_type": "code",
   "execution_count": 23,
   "metadata": {},
   "outputs": [],
   "source": [
    "import pandas as pd\n",
    "import numpy as np\n",
    "import matplotlib.pyplot as plt\n",
    "from sklearn.cluster import KMeans\n",
    "from scipy.optimize import linear_sum_assignment\n",
    "import collections"
   ]
  },
  {
   "cell_type": "code",
   "execution_count": 24,
   "metadata": {},
   "outputs": [],
   "source": [
    "def run_kmeans2(dataset):\n",
    "    # features is the data matrix except for the last two columns\n",
    "    X=dataset.iloc[:,0:-2]\n",
    "              \n",
    "    clean_Y = dataset.iloc[:,-2]\n",
    "    tilde_Y = dataset.iloc[:,-1]\n",
    "\n",
    "    values, counts = np.unique(clean_Y, return_counts=True)\n",
    "\n",
    "    kmeans = KMeans(n_clusters=len(values))\n",
    "    kmeans.fit(X, tilde_Y)\n",
    "    identified_clusters = kmeans.fit_predict(X)\n",
    "\n",
    "    # note that to better match the cluster Id to tilde_Y,\n",
    "    # we could use hat_clean Y which obtained by current noise-robust method, but for the simple dataset , it may not necessary\n",
    "\n",
    "    idx2 = _hungarian_match(identified_clusters, tilde_Y)\n",
    "    #idx2 = _hungarian_match(identified_clusters, clean_Y)\n",
    "    prime_Y = get_prime_Y(tilde_Y, identified_clusters, idx2[1])\n",
    "    # yz: directly return prime_Y without using count_m\n",
    "    return prime_Y\n",
    "\n",
    "def _hungarian_match(flat_preds, flat_targets):\n",
    "    # Based on implementation from IIC\n",
    "    num_samples = flat_targets.shape[0]\n",
    "    v, counts = np.unique(flat_preds, return_counts=True)\n",
    "\n",
    "    num_k = len(v)\n",
    "    num_correct = np.zeros((num_k, num_k))\n",
    "\n",
    "    for c1 in range(num_k):\n",
    "        for c2 in range(num_k):\n",
    "            # elementwise, so each sample contributes once\n",
    "            votes = int(((flat_preds == c1) * (flat_targets == c2)).sum())\n",
    "            num_correct[c1, c2] = votes\n",
    "\n",
    "    row, col = linear_sum_assignment(num_samples - num_correct)\n",
    "    return row, col\n",
    "\n",
    "\n",
    "def get_prime_Y(noisy_classes, pred_classes, mappings):\n",
    "    prime_Y = np.zeros(len(noisy_classes))\n",
    "    for i in range(len(pred_classes)):\n",
    "        prime_Y[i] = mappings[pred_classes[i]]\n",
    "\n",
    "    return prime_Y"
   ]
  },
  {
   "cell_type": "code",
   "execution_count": 19,
   "metadata": {},
   "outputs": [
    {
     "name": "stdout",
     "output_type": "stream",
     "text": [
      "2\n"
     ]
    },
    {
     "data": {
      "text/html": [
       "<div><div id=937ab2c6-d972-4c4f-9162-03d0bdf8c906 style=\"display:none; background-color:#9D6CFF; color:white; width:200px; height:30px; padding-left:5px; border-radius:4px; flex-direction:row; justify-content:space-around; align-items:center;\" onmouseover=\"this.style.backgroundColor='#BA9BF8'\" onmouseout=\"this.style.backgroundColor='#9D6CFF'\" onclick=\"window.commands?.execute('create-mitosheet-from-dataframe-output');\">See Full Dataframe in Mito</div> <script> if (window.commands?.hasCommand('create-mitosheet-from-dataframe-output')) document.getElementById('937ab2c6-d972-4c4f-9162-03d0bdf8c906').style.display = 'flex' </script> <table border=\"1\" class=\"dataframe\">\n",
       "  <thead>\n",
       "    <tr style=\"text-align: right;\">\n",
       "      <th></th>\n",
       "      <th>0</th>\n",
       "      <th>1</th>\n",
       "      <th>2</th>\n",
       "    </tr>\n",
       "  </thead>\n",
       "  <tbody>\n",
       "    <tr>\n",
       "      <th>0</th>\n",
       "      <td>7679</td>\n",
       "      <td>1</td>\n",
       "      <td>1</td>\n",
       "    </tr>\n",
       "    <tr>\n",
       "      <th>1</th>\n",
       "      <td>152</td>\n",
       "      <td>1</td>\n",
       "      <td>1</td>\n",
       "    </tr>\n",
       "    <tr>\n",
       "      <th>2</th>\n",
       "      <td>17232</td>\n",
       "      <td>2</td>\n",
       "      <td>2</td>\n",
       "    </tr>\n",
       "    <tr>\n",
       "      <th>3</th>\n",
       "      <td>28829</td>\n",
       "      <td>2</td>\n",
       "      <td>2</td>\n",
       "    </tr>\n",
       "    <tr>\n",
       "      <th>4</th>\n",
       "      <td>9188</td>\n",
       "      <td>1</td>\n",
       "      <td>1</td>\n",
       "    </tr>\n",
       "  </tbody>\n",
       "</table></div>"
      ],
      "text/plain": [
       "       0  1  2\n",
       "0   7679  1  1\n",
       "1    152  1  1\n",
       "2  17232  2  2\n",
       "3  28829  2  2\n",
       "4   9188  1  1"
      ]
     },
     "execution_count": 19,
     "metadata": {},
     "output_type": "execute_result"
    }
   ],
   "source": []
  },
  {
   "cell_type": "code",
   "execution_count": null,
   "metadata": {},
   "outputs": [],
   "source": [
    "\n",
    "\n"
   ]
  },
  {
   "cell_type": "code",
   "execution_count": 22,
   "metadata": {},
   "outputs": [
    {
     "name": "stdout",
     "output_type": "stream",
     "text": [
      "0.7165354330708661\n"
     ]
    }
   ],
   "source": [
    "\n",
    "\n",
    "primeY =[]\n",
    "\n",
    "primeY= run_kmeans2(data)\n",
    "\n",
    "#res2 = (primeY == train_noisy_labels[:, 0])\n",
    "res2 = (primeY == data.iloc[:,-1])\n",
    "#print(res2)\n",
    "count2 = collections.Counter(res2)\n",
    "error_rate = count2[False]/(count2[False]+count2[True])\n",
    "print(error_rate)"
   ]
  },
  {
   "cell_type": "code",
   "execution_count": 2,
   "metadata": {},
   "outputs": [
    {
     "ename": "ImportError",
     "evalue": "R Package (k)pcalg/RCIT is not available. RCIT has to be installed from https://github.com/Diviyan-Kalainathan/RCIT",
     "output_type": "error",
     "traceback": [
      "\u001B[0;31m---------------------------------------------------------------------------\u001B[0m",
      "\u001B[0;31mImportError\u001B[0m                               Traceback (most recent call last)",
      "\u001B[1;32m/Users/yangz/Library/CloudStorage/OneDrive-个人/~STUDY/Usyd/Honours_Research/CDnoise/001_causal_discovery/causal_benchmark.ipynb Cell 2\u001B[0m in \u001B[0;36m3\n\u001B[1;32m      <a href='vscode-notebook-cell:/Users/yangz/Library/CloudStorage/OneDrive-%E4%B8%AA%E4%BA%BA/~STUDY/Usyd/Honours_Research/CDnoise/001_causal_discovery/causal_benchmark.ipynb#W1sZmlsZQ%3D%3D?line=0'>1</a>\u001B[0m data \u001B[39m=\u001B[39m pd\u001B[39m.\u001B[39mread_csv(\u001B[39m'\u001B[39m\u001B[39mdatasets/iris/iris_train.csv\u001B[39m\u001B[39m'\u001B[39m)\n\u001B[1;32m      <a href='vscode-notebook-cell:/Users/yangz/Library/CloudStorage/OneDrive-%E4%B8%AA%E4%BA%BA/~STUDY/Usyd/Honours_Research/CDnoise/001_causal_discovery/causal_benchmark.ipynb#W1sZmlsZQ%3D%3D?line=1'>2</a>\u001B[0m \u001B[39mfrom\u001B[39;00m \u001B[39mcdt\u001B[39;00m\u001B[39m.\u001B[39;00m\u001B[39mcausality\u001B[39;00m\u001B[39m.\u001B[39;00m\u001B[39mgraph\u001B[39;00m \u001B[39mimport\u001B[39;00m PC\n\u001B[0;32m----> <a href='vscode-notebook-cell:/Users/yangz/Library/CloudStorage/OneDrive-%E4%B8%AA%E4%BA%BA/~STUDY/Usyd/Honours_Research/CDnoise/001_causal_discovery/causal_benchmark.ipynb#W1sZmlsZQ%3D%3D?line=2'>3</a>\u001B[0m pc_algorithm \u001B[39m=\u001B[39m PC()\n\u001B[1;32m      <a href='vscode-notebook-cell:/Users/yangz/Library/CloudStorage/OneDrive-%E4%B8%AA%E4%BA%BA/~STUDY/Usyd/Honours_Research/CDnoise/001_causal_discovery/causal_benchmark.ipynb#W1sZmlsZQ%3D%3D?line=3'>4</a>\u001B[0m result_graph \u001B[39m=\u001B[39m pc_algorithm\u001B[39m.\u001B[39mpredict(data)\n\u001B[1;32m      <a href='vscode-notebook-cell:/Users/yangz/Library/CloudStorage/OneDrive-%E4%B8%AA%E4%BA%BA/~STUDY/Usyd/Honours_Research/CDnoise/001_causal_discovery/causal_benchmark.ipynb#W1sZmlsZQ%3D%3D?line=4'>5</a>\u001B[0m \u001B[39mimport\u001B[39;00m \u001B[39mmatplotlib\u001B[39;00m\u001B[39m.\u001B[39;00m\u001B[39mpyplot\u001B[39;00m \u001B[39mas\u001B[39;00m \u001B[39mplt\u001B[39;00m\n",
      "File \u001B[0;32m~/miniforge3/envs/al/lib/python3.9/site-packages/cdt/causality/graph/PC.py:176\u001B[0m, in \u001B[0;36mPC.__init__\u001B[0;34m(self, CItest, method_indep, alpha, njobs, verbose)\u001B[0m\n\u001B[1;32m    174\u001B[0m \u001B[39m\"\"\"Init the model and its available arguments.\"\"\"\u001B[39;00m\n\u001B[1;32m    175\u001B[0m \u001B[39mif\u001B[39;00m \u001B[39mnot\u001B[39;00m (RPackages\u001B[39m.\u001B[39mpcalg \u001B[39mand\u001B[39;00m RPackages\u001B[39m.\u001B[39mkpcalg \u001B[39mand\u001B[39;00m RPackages\u001B[39m.\u001B[39mRCIT):\n\u001B[0;32m--> 176\u001B[0m     \u001B[39mraise\u001B[39;00m \u001B[39mImportError\u001B[39;00m(\u001B[39m\"\u001B[39m\u001B[39mR Package (k)pcalg/RCIT is not available. \u001B[39m\u001B[39m\"\u001B[39m\n\u001B[1;32m    177\u001B[0m                       \u001B[39m\"\u001B[39m\u001B[39mRCIT has to be installed from \u001B[39m\u001B[39m\"\u001B[39m\n\u001B[1;32m    178\u001B[0m                       \u001B[39m\"\u001B[39m\u001B[39mhttps://github.com/Diviyan-Kalainathan/RCIT\u001B[39m\u001B[39m\"\u001B[39m)\n\u001B[1;32m    180\u001B[0m \u001B[39msuper\u001B[39m(PC, \u001B[39mself\u001B[39m)\u001B[39m.\u001B[39m\u001B[39m__init__\u001B[39m()\n\u001B[1;32m    181\u001B[0m \u001B[39mself\u001B[39m\u001B[39m.\u001B[39mdir_CI_test \u001B[39m=\u001B[39m {\u001B[39m'\u001B[39m\u001B[39mbinary\u001B[39m\u001B[39m'\u001B[39m: \u001B[39m\"\u001B[39m\u001B[39mpcalg::binCItest\u001B[39m\u001B[39m\"\u001B[39m, \u001B[39m# ic.method=\\\"dcc\\\"\",\u001B[39;00m\n\u001B[1;32m    182\u001B[0m                          \u001B[39m'\u001B[39m\u001B[39mdiscrete\u001B[39m\u001B[39m'\u001B[39m: \u001B[39m\"\u001B[39m\u001B[39mpcalg::disCItest\u001B[39m\u001B[39m\"\u001B[39m,\n\u001B[1;32m    183\u001B[0m                          \u001B[39m'\u001B[39m\u001B[39mhsic_gamma\u001B[39m\u001B[39m'\u001B[39m: \u001B[39m\"\u001B[39m\u001B[39mkpcalg::kernelCItest\u001B[39m\u001B[39m\"\u001B[39m,\n\u001B[0;32m   (...)\u001B[0m\n\u001B[1;32m    187\u001B[0m                          \u001B[39m'\u001B[39m\u001B[39mrcit\u001B[39m\u001B[39m'\u001B[39m: \u001B[39m\"\u001B[39m\u001B[39mRCIT:::CItest\u001B[39m\u001B[39m\"\u001B[39m,\n\u001B[1;32m    188\u001B[0m                          \u001B[39m'\u001B[39m\u001B[39mrcot\u001B[39m\u001B[39m'\u001B[39m: \u001B[39m\"\u001B[39m\u001B[39mRCIT:::CItest\u001B[39m\u001B[39m\"\u001B[39m}\n",
      "\u001B[0;31mImportError\u001B[0m: R Package (k)pcalg/RCIT is not available. RCIT has to be installed from https://github.com/Diviyan-Kalainathan/RCIT"
     ]
    }
   ],
   "source": [
    "\n",
    "data = pd.read_csv('datasets/iris/iris_train.csv')\n",
    "from cdt.causality.graph import PC\n",
    "pc_algorithm = PC()\n",
    "result_graph = pc_algorithm.predict(data)\n",
    "import matplotlib.pyplot as plt\n",
    "\n",
    "pos = nx.nx_agraph.graphviz_layout(result_graph, prog='dot')\n",
    "nx.draw(result_graph, pos, with_labels=True, node_size=1500, node_color='orange', font_size=10, font_weight='bold')\n",
    "plt.show()\n"
   ]
  }
 ],
 "metadata": {
  "kernelspec": {
   "display_name": "al",
   "language": "python",
   "name": "python3"
  },
  "language_info": {
   "codemirror_mode": {
    "name": "ipython",
    "version": 3
   },
   "file_extension": ".py",
   "mimetype": "text/x-python",
   "name": "python",
   "nbconvert_exporter": "python",
   "pygments_lexer": "ipython3",
   "version": "3.9.0"
  },
  "orig_nbformat": 4
 },
 "nbformat": 4,
 "nbformat_minor": 2
}
