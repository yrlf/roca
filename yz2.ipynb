{
 "cells": [
  {
   "cell_type": "markdown",
   "metadata": {
    "pycharm": {
     "name": "#%% md\n"
    }
   },
   "source": [
    "# Library"
   ]
  },
  {
   "cell_type": "markdown",
   "metadata": {
    "collapsed": false,
    "pycharm": {
     "name": "#%% md\n"
    }
   },
   "source": [
    "import os\n",
    "os.chdir('autodl-tmp/code_Yao')\n",
    "os.getcwd()"
   ]
  },
  {
   "cell_type": "code",
   "execution_count": 1,
   "metadata": {
    "pycharm": {
     "name": "#%%\n"
    }
   },
   "outputs": [],
   "source": [
    "import csv\n",
    "import time\n",
    "import math\n",
    "import argparse\n",
    "import random\n",
    "from random import seed\n",
    "from mylib.utils import fix_seed\n",
    "from mylib.data.data_loader import load_ucidata\n",
    "import numpy as np\n",
    "from run_dnl import run_dnl\n",
    "import tools\n",
    "import pandas as pd\n",
    "from kmeans import run_kmeans\n",
    "import os\n",
    "import argparse\n",
    "import scipy\n",
    "from sklearn.decomposition import PCA\n",
    "import matplotlib.pyplot as plt\n",
    "import collections\n",
    "%matplotlib inline\n"
   ]
  },
  {
   "cell_type": "markdown",
   "metadata": {
    "pycharm": {
     "name": "#%% md\n"
    }
   },
   "source": [
    "# Parser"
   ]
  },
  {
   "cell_type": "code",
   "execution_count": 2,
   "metadata": {
    "pycharm": {
     "name": "#%%\n"
    }
   },
   "outputs": [],
   "source": [
    "from kmeans import run_kmeans\n",
    "# --- parsing and configuration --- #\n",
    "parser = argparse.ArgumentParser(\n",
    "    description=\"PyTorch implementation of VAE\")\n",
    "parser.add_argument('--batch_size', type=int, default=16,\n",
    "                    help='batch size for training (default: 128)')\n",
    "parser.add_argument('--epochs', type=int, default=10,\n",
    "                    help='number of epochs to train (default: 20)')\n",
    "parser.add_argument('--z_dim', type=int, default=25,\n",
    "                    help='dimension of hidden variable Z (default: 10)')\n",
    "parser.add_argument('--num_hidden_layers', type=int, default=2,\n",
    "                    help='num hidden_layers (default: 0)')\n",
    "parser.add_argument('--flip_rate_fixed', type=float,\n",
    "                    help='fixed flip rates.', default=0.4)\n",
    "parser.add_argument('--train_frac', default=1.0, type=float,\n",
    "                    help='training sample size fraction')\n",
    "parser.add_argument('--noise_type', type=str, default='sym')\n",
    "parser.add_argument('--trainval_split',  default=0.8, type=float,\n",
    "                    help='training set ratio')\n",
    "parser.add_argument('--seed', default=1, type=int,\n",
    "                    help='seed for initializing training')\n",
    "parser.add_argument('--dataset', default=\"krkp\", type=str,\n",
    "                    help='db')\n",
    "parser.add_argument('--select_ratio', default=0, type=float,\n",
    "                    help='confidence example selection ratio')\n",
    "parser.add_argument('--pretrained', default=0, type=int,\n",
    "                    help='using pretrained model or not')\n",
    "\n",
    "# added by yz:\n",
    "parser.add_argument('--pca_k', type=int, default=5,\n",
    "                    help='PCA dimension (default: 5)')\n",
    "parser.add_argument('--sample_size', type=int, default=20,\n",
    "                    help='randomly select samples for analysis')\n",
    "parser.add_argument('--near_percentage', type=float, default=0.1,\n",
    "                    help='percentage nearby in terms of L2 norm')\n",
    "\n",
    "arch_dict = {\"FashionMNIST\": \"resnet18\", \"cifar10\": \"resnet18\", \"cifar100\": \"resnet34\", \"mnist\": \"Lenet\",\n",
    "             \"balancescale\": \"NaiveNet\", \"krkp\": \"NaiveNet\", \"splice\": \"NaiveNet\", \"yxguassian\": \"NaiveNet\"}\n"
   ]
  },
  {
   "cell_type": "markdown",
   "metadata": {
    "collapsed": false,
    "pycharm": {
     "name": "#%% md\n"
    }
   },
   "source": [
    "# Define functions"
   ]
  },
  {
   "cell_type": "code",
   "execution_count": 3,
   "metadata": {
    "collapsed": false,
    "pycharm": {
     "name": "#%%\n"
    }
   },
   "outputs": [],
   "source": [
    "def runPCA(dataset, n_components):\n",
    "    X = dataset.data\n",
    "    pca = PCA(n_components)\n",
    "    return pca.fit(X)\n",
    "\n",
    "\n",
    "def entropy(labels):\n",
    "    freqdist = collections.Counter(labels)\n",
    "    probs = [freqdist[label] / len(labels) for label in freqdist]\n",
    "    return -sum(p * math.log(p, 2) for p in probs)\n"
   ]
  },
  {
   "cell_type": "markdown",
   "metadata": {
    "collapsed": false,
    "pycharm": {
     "name": "#%% md\n"
    }
   },
   "source": [
    "# Load dataset"
   ]
  },
  {
   "cell_type": "code",
   "execution_count": 10,
   "metadata": {
    "collapsed": false,
    "pycharm": {
     "name": "#%%\n"
    }
   },
   "outputs": [
    {
     "name": "stdout",
     "output_type": "stream",
     "text": [
      "Namespace(batch_size=16, epochs=10, z_dim=25, num_hidden_layers=2, flip_rate_fixed=0.4, train_frac=1.0, noise_type='sym', trainval_split=0.8, seed=1, dataset='yxguassian', select_ratio=0, pretrained=0, pca_k=5, sample_size=100, near_percentage=0.05)\n"
     ]
    }
   ],
   "source": [
    "args = parser.parse_args(\n",
    "    args=[\"--dataset\", \"yxguassian\", \"--near_percentage\", \"0.05\", \"--sample_size\", \"100\"])\n",
    "base_dir = \"./\"+args.dataset+\"/\"+args.noise_type + \\\n",
    "    str(args.flip_rate_fixed)+\"/\"+str(args.seed)+\"/\"\n",
    "print(args)\n",
    "\n",
    "if args.seed is not None:\n",
    "    fix_seed(args.seed)\n",
    "train_val_loader, train_loader, val_loader, est_loader, test_loader = load_ucidata(\n",
    "    dataset=args.dataset,\n",
    "    noise_type=args.noise_type,\n",
    "    random_state=args.seed,\n",
    "    batch_size=args.batch_size,\n",
    "    add_noise=True,\n",
    "    flip_rate_fixed=args.flip_rate_fixed,\n",
    "    trainval_split=args.trainval_split,\n",
    "    train_frac=args.train_frac,\n",
    "    augment=False,\n",
    ")\n",
    "# only use training data, no validation and test data is used\n",
    "# test_dataset = test_loader.dataset\n",
    "# val_dataset = val_loader.dataset\n",
    "train_dataset = train_loader.dataset\n"
   ]
  },
  {
   "cell_type": "markdown",
   "metadata": {
    "collapsed": false,
    "pycharm": {
     "name": "#%% md\n"
    }
   },
   "source": [
    "# Results t-SNE"
   ]
  },
  {
   "cell_type": "code",
   "execution_count": 17,
   "metadata": {
    "collapsed": false,
    "pycharm": {
     "name": "#%%\n"
    }
   },
   "outputs": [
    {
     "name": "stdout",
     "output_type": "stream",
     "text": [
      "t-SNE cost 1.7684338092803955 s\n"
     ]
    }
   ],
   "source": [
    "from sklearn.manifold import TSNE\n",
    "time_start = time.time()\n",
    "sample_size = 100\n",
    "tsne = TSNE(n_components=2, random_state=0, perplexity=30)\n",
    "random_select_index = np.random.choice(\n",
    "    len(train_dataset.dataset.data), sample_size, replace=False)\n",
    "X_tsne = tsne.fit_transform(train_dataset.dataset.data[random_select_index])\n",
    "time_end = time.time()\n",
    "print('t-SNE cost', time_end - time_start, 's')\n"
   ]
  },
  {
   "cell_type": "code",
   "execution_count": 18,
   "metadata": {
    "collapsed": false,
    "pycharm": {
     "name": "#%%\n"
    }
   },
   "outputs": [
    {
     "data": {
      "text/plain": [
       "<matplotlib.collections.PathCollection at 0x16a2f4550>"
      ]
     },
     "execution_count": 18,
     "metadata": {},
     "output_type": "execute_result"
    },
    {
     "data": {
      "image/png": "[encoded data removed]",
      "text/plain": [
       "<Figure size 300x300 with 1 Axes>"
      ]
     },
     "metadata": {},
     "output_type": "display_data"
    }
   ],
   "source": [
    "plt.figure(figsize=(3, 3))\n",
    "plt.scatter(X_tsne[:, 0], X_tsne[:, 1],\n",
    "            c=train_dataset.dataset.targets[random_select_index], cmap='autumn_r')\n"
   ]
  },
  {
   "cell_type": "markdown",
   "metadata": {
    "pycharm": {
     "name": "#%% md\n"
    }
   },
   "source": [
    "# Results PCA\n",
    "Run PCA and plot the result"
   ]
  },
  {
   "cell_type": "code",
   "execution_count": 23,
   "metadata": {
    "pycharm": {
     "name": "#%%\n"
    }
   },
   "outputs": [
    {
     "data": {
      "text/plain": [
       "<matplotlib.collections.PathCollection at 0x28a281c70>"
      ]
     },
     "execution_count": 23,
     "metadata": {},
     "output_type": "execute_result"
    },
    {
     "data": {
      "image/png": "[encoded data removed]",
      "text/plain": [
       "<Figure size 300x300 with 1 Axes>"
      ]
     },
     "metadata": {},
     "output_type": "display_data"
    }
   ],
   "source": [
    "k = args.pca_k\n",
    "iteration_number = args.sample_size\n",
    "near_percentage = args.near_percentage\n",
    "\n",
    "# --- PCA --- #\n",
    "pca = runPCA(train_dataset.dataset, k)\n",
    "\n",
    "X_pca = pca.transform(train_dataset.dataset.data)\n",
    "\n",
    "plt.figure(figsize=(3, 3))\n",
    "sample_size = 100\n",
    "random_select_index = np.random.choice(\n",
    "    len(train_dataset.dataset.data), sample_size, replace=False)\n",
    "X_pca_sample = X_pca[random_select_index]\n",
    "plt.scatter(X_pca_sample[:, 0], X_pca_sample[:, 1],\n",
    "            c=train_dataset.dataset.targets[random_select_index], cmap='autumn_r')\n"
   ]
  },
  {
   "cell_type": "code",
   "execution_count": null,
   "metadata": {
    "collapsed": false,
    "pycharm": {
     "name": "#%%\n"
    }
   },
   "outputs": [],
   "source": [
    "\n",
    "# calculate class 0 ratio for binary classification\n",
    "if len(np.unique(train_dataset.dataset.targets)) == 2:\n",
    "    is_binary = True\n",
    "else:\n",
    "    is_binary = False\n",
    "\n",
    "random_index_list = []\n",
    "entropy_list = []\n",
    "ratio_list = []\n",
    "for i in range(iteration_number):\n",
    "    while (1):\n",
    "        random_index = random.randint(0, len(train_dataset.dataset.data))\n",
    "        if (random_index not in random_index_list):\n",
    "            random_index_list.append(random_index)\n",
    "            break\n",
    "\n",
    "    l2_norm = np.linalg.norm(X_pca - X_pca[random_index], axis=1)\n",
    "    # find the index of examples that are close to the randomly selected example\n",
    "    close_samples_index = np.argsort(l2_norm)[:int(\n",
    "        len(train_dataset.dataset.data)*near_percentage)]\n",
    "    # calculate the entropy among these samples\n",
    "    close_entropy = entropy(train_dataset.dataset.targets[close_samples_index])\n",
    "    entropy_list.append(close_entropy)\n",
    "\n",
    "    # for binary labels, calculate the ratio of count the unique values of targets\n",
    "    if (is_binary == True):\n",
    "        unique, counts = np.unique(\n",
    "            train_dataset.dataset.targets[close_samples_index], return_counts=True)\n",
    "        ratio = counts[0]/(counts[0]+counts[1])\n",
    "        ratio_list.append(ratio)\n",
    "    else:\n",
    "        ratio_list.append(0)\n",
    "\n",
    "# concatenate the random index, entropy and ratio lists into a dataframe\n",
    "df = pd.DataFrame(list(zip(random_index_list, entropy_list, ratio_list)), columns=[\n",
    "                  'random_index', 'entropy', 'class0_ratio'])\n",
    "entropy_mean = df['entropy'].mean()\n",
    "entropy_var = df['entropy'].var()\n",
    "print(\"Done\")\n"
   ]
  },
  {
   "cell_type": "markdown",
   "metadata": {
    "collapsed": false,
    "pycharm": {
     "name": "#%% md\n"
    }
   },
   "source": [
    "## results in table"
   ]
  },
  {
   "cell_type": "code",
   "execution_count": 13,
   "metadata": {
    "collapsed": false,
    "pycharm": {
     "name": "#%%\n"
    }
   },
   "outputs": [],
   "source": [
    "# create csv file\n",
    "output_filename = \"./results/pca_results.csv\"\n",
    "# with open(output_filename, 'a', newline = '') as file:\n",
    "#     writer = csv.writer(file)\n",
    "#     writer.writerow([\"dataset\", \"pca_k\", \"sample_size\", \"near_percentage\", \"noise_type\", \"flip_rate_fixed\", \"entropy_mean\",\"entropy_variance\", \"ratio_mean\", \"ratio_variance\"])\n",
    "\n",
    "# write results to csv file\n"
   ]
  },
  {
   "cell_type": "markdown",
   "metadata": {
    "collapsed": false,
    "pycharm": {
     "name": "#%% md\n"
    }
   },
   "source": [
    "## plot the results"
   ]
  },
  {
   "cell_type": "code",
   "execution_count": 20,
   "metadata": {
    "collapsed": false,
    "pycharm": {
     "name": "#%%\n"
    }
   },
   "outputs": [
    {
     "data": {
      "image/png": "[encoded data removed]",
      "text/plain": [
       "<Figure size 640x480 with 2 Axes>"
      ]
     },
     "metadata": {},
     "output_type": "display_data"
    }
   ],
   "source": [
    "\n",
    "save_fig = 0\n",
    "# visulization:\n",
    "y_axis_label_left = \"Entropy\"\n",
    "y_axis_label_right = \"Ratio of class 0\"\n",
    "title = \"PCA (k=\"+str(k)+\") on \"+args.dataset+\" dataset\"+\" with \"+str(args.flip_rate_fixed)+\" \"+str(args.noise_type)+\" noise\"+'\\n' + \"Randomly selected \"+str(iteration_number) + \\\n",
    "    \" samples within \"+str(near_percentage*100)+\"% of its neighbors (L2 norm)\"+'\\n' + \"Mean entropy: \" + \\\n",
    "    str(round(entropy_mean, 3))+\", Variance entropy: \"+str(round(entropy_var, 6))\n",
    "\n",
    "# create figure and axis objects with subplots()\n",
    "fig, ax = plt.subplots()\n",
    "# make a plot\n",
    "ax.plot(df.index,\n",
    "        df.entropy,\n",
    "        color=\"red\",\n",
    "        marker=\"o\")\n",
    "# set x-axis label\n",
    "ax.set_xlabel(\"random samples\", fontsize=14)\n",
    "# set y-axis label\n",
    "ax.set_ylabel(y_axis_label_left,\n",
    "              color=\"red\",\n",
    "              fontsize=14)\n",
    "\n",
    "# twin object for two different y-axis on the sample plot\n",
    "ax2 = ax.twinx()\n",
    "# make a plot with different y-axis using second axis object\n",
    "ax2.plot(df.index, df.class0_ratio, color=\"blue\", marker=\"o\")\n",
    "ax2.set_ylabel(y_axis_label_right, color=\"blue\", fontsize=14)\n",
    "\n",
    "# ax.set_ylim(0,1.1)\n",
    "# ax2.set_ylim(0,1.1)\n",
    "plt.title(title)\n",
    "plt.show()\n",
    "\n",
    "# save the plot as a file\n",
    "output_path = \"./results/\"+str(args.dataset)+\"_PCA_\"+str(args.pca_k)+\"_random_\"+str(args.sample_size) + \\\n",
    "    \"_near_\"+str(near_percentage)+\"_\"+str(args.noise_type) + \\\n",
    "    \"_\"+str(args.flip_rate_fixed)+\"_noise\"+\".png\"\n",
    "\n",
    "if save_fig == 1:\n",
    "    fig.savefig(output_path,\n",
    "                format='jpeg',\n",
    "                dpi=100,\n",
    "                bbox_inches='tight')\n"
   ]
  },
  {
   "cell_type": "code",
   "execution_count": 2,
   "metadata": {},
   "outputs": [],
   "source": [
    "import numpy as np\n",
    "import matplotlib.pyplot as plt\n",
    "import pandas as pd\n",
    "df = pd.read_csv(\"./results/pca_results.csv\")\n"
   ]
  },
  {
   "cell_type": "code",
   "execution_count": 4,
   "metadata": {
    "notebookRunGroups": {
     "groupValue": "1"
    },
    "tags": [
     "test1"
    ]
   },
   "outputs": [
    {
     "data": {
      "text/html": [
       "<div>\n",
       "<style scoped>\n",
       "    .dataframe tbody tr th:only-of-type {\n",
       "        vertical-align: middle;\n",
       "    }\n",
       "\n",
       "    .dataframe tbody tr th {\n",
       "        vertical-align: top;\n",
       "    }\n",
       "\n",
       "    .dataframe thead th {\n",
       "        text-align: right;\n",
       "    }\n",
       "</style>\n",
       "<table border=\"1\" class=\"dataframe\">\n",
       "  <thead>\n",
       "    <tr style=\"text-align: right;\">\n",
       "      <th></th>\n",
       "      <th>dataset</th>\n",
       "      <th>pca_k</th>\n",
       "      <th>sample_size</th>\n",
       "      <th>near_percentage</th>\n",
       "      <th>noise_type</th>\n",
       "      <th>flip_rate_fixed</th>\n",
       "      <th>entropy_mean</th>\n",
       "      <th>entropy_variance</th>\n",
       "      <th>ratio_mean</th>\n",
       "      <th>ratio_variance</th>\n",
       "      <th>causal</th>\n",
       "    </tr>\n",
       "  </thead>\n",
       "  <tbody>\n",
       "    <tr>\n",
       "      <th>0</th>\n",
       "      <td>xyguassian</td>\n",
       "      <td>5</td>\n",
       "      <td>200</td>\n",
       "      <td>0.10</td>\n",
       "      <td>sym</td>\n",
       "      <td>0.1</td>\n",
       "      <td>0.834760</td>\n",
       "      <td>0.027324</td>\n",
       "      <td>0.501022</td>\n",
       "      <td>0.052966</td>\n",
       "      <td>0</td>\n",
       "    </tr>\n",
       "    <tr>\n",
       "      <th>1</th>\n",
       "      <td>xyguassian</td>\n",
       "      <td>5</td>\n",
       "      <td>200</td>\n",
       "      <td>0.30</td>\n",
       "      <td>sym</td>\n",
       "      <td>0.1</td>\n",
       "      <td>0.935229</td>\n",
       "      <td>0.005730</td>\n",
       "      <td>0.498111</td>\n",
       "      <td>0.021744</td>\n",
       "      <td>0</td>\n",
       "    </tr>\n",
       "    <tr>\n",
       "      <th>2</th>\n",
       "      <td>xyguassian</td>\n",
       "      <td>5</td>\n",
       "      <td>200</td>\n",
       "      <td>0.50</td>\n",
       "      <td>sym</td>\n",
       "      <td>0.1</td>\n",
       "      <td>0.973792</td>\n",
       "      <td>0.000942</td>\n",
       "      <td>0.496543</td>\n",
       "      <td>0.008985</td>\n",
       "      <td>0</td>\n",
       "    </tr>\n",
       "    <tr>\n",
       "      <th>3</th>\n",
       "      <td>xyguassian</td>\n",
       "      <td>3</td>\n",
       "      <td>200</td>\n",
       "      <td>0.10</td>\n",
       "      <td>sym</td>\n",
       "      <td>0.1</td>\n",
       "      <td>0.880818</td>\n",
       "      <td>0.014377</td>\n",
       "      <td>0.507352</td>\n",
       "      <td>0.039091</td>\n",
       "      <td>0</td>\n",
       "    </tr>\n",
       "    <tr>\n",
       "      <th>4</th>\n",
       "      <td>xyguassian</td>\n",
       "      <td>3</td>\n",
       "      <td>200</td>\n",
       "      <td>0.30</td>\n",
       "      <td>sym</td>\n",
       "      <td>0.1</td>\n",
       "      <td>0.940327</td>\n",
       "      <td>0.003990</td>\n",
       "      <td>0.500893</td>\n",
       "      <td>0.020168</td>\n",
       "      <td>0</td>\n",
       "    </tr>\n",
       "    <tr>\n",
       "      <th>...</th>\n",
       "      <td>...</td>\n",
       "      <td>...</td>\n",
       "      <td>...</td>\n",
       "      <td>...</td>\n",
       "      <td>...</td>\n",
       "      <td>...</td>\n",
       "      <td>...</td>\n",
       "      <td>...</td>\n",
       "      <td>...</td>\n",
       "      <td>...</td>\n",
       "      <td>...</td>\n",
       "    </tr>\n",
       "    <tr>\n",
       "      <th>1565</th>\n",
       "      <td>splice</td>\n",
       "      <td>3</td>\n",
       "      <td>1000</td>\n",
       "      <td>0.05</td>\n",
       "      <td>pair</td>\n",
       "      <td>0.9</td>\n",
       "      <td>1.246513</td>\n",
       "      <td>0.049203</td>\n",
       "      <td>0.000000</td>\n",
       "      <td>0.000000</td>\n",
       "      <td>1</td>\n",
       "    </tr>\n",
       "    <tr>\n",
       "      <th>1566</th>\n",
       "      <td>splice</td>\n",
       "      <td>3</td>\n",
       "      <td>1000</td>\n",
       "      <td>0.10</td>\n",
       "      <td>pair</td>\n",
       "      <td>0.9</td>\n",
       "      <td>1.293344</td>\n",
       "      <td>0.035138</td>\n",
       "      <td>0.000000</td>\n",
       "      <td>0.000000</td>\n",
       "      <td>1</td>\n",
       "    </tr>\n",
       "    <tr>\n",
       "      <th>1567</th>\n",
       "      <td>splice</td>\n",
       "      <td>1</td>\n",
       "      <td>1000</td>\n",
       "      <td>0.01</td>\n",
       "      <td>pair</td>\n",
       "      <td>0.9</td>\n",
       "      <td>1.258111</td>\n",
       "      <td>0.040965</td>\n",
       "      <td>0.000000</td>\n",
       "      <td>0.000000</td>\n",
       "      <td>1</td>\n",
       "    </tr>\n",
       "    <tr>\n",
       "      <th>1568</th>\n",
       "      <td>splice</td>\n",
       "      <td>1</td>\n",
       "      <td>1000</td>\n",
       "      <td>0.05</td>\n",
       "      <td>pair</td>\n",
       "      <td>0.9</td>\n",
       "      <td>1.324988</td>\n",
       "      <td>0.018468</td>\n",
       "      <td>0.000000</td>\n",
       "      <td>0.000000</td>\n",
       "      <td>1</td>\n",
       "    </tr>\n",
       "    <tr>\n",
       "      <th>1569</th>\n",
       "      <td>splice</td>\n",
       "      <td>1</td>\n",
       "      <td>1000</td>\n",
       "      <td>0.10</td>\n",
       "      <td>pair</td>\n",
       "      <td>0.9</td>\n",
       "      <td>1.334967</td>\n",
       "      <td>0.014997</td>\n",
       "      <td>0.000000</td>\n",
       "      <td>0.000000</td>\n",
       "      <td>1</td>\n",
       "    </tr>\n",
       "  </tbody>\n",
       "</table>\n",
       "<p>1570 rows × 11 columns</p>\n",
       "</div>"
      ],
      "text/plain": [
       "         dataset  pca_k  sample_size  near_percentage noise_type  \\\n",
       "0     xyguassian      5          200             0.10        sym   \n",
       "1     xyguassian      5          200             0.30        sym   \n",
       "2     xyguassian      5          200             0.50        sym   \n",
       "3     xyguassian      3          200             0.10        sym   \n",
       "4     xyguassian      3          200             0.30        sym   \n",
       "...          ...    ...          ...              ...        ...   \n",
       "1565      splice      3         1000             0.05       pair   \n",
       "1566      splice      3         1000             0.10       pair   \n",
       "1567      splice      1         1000             0.01       pair   \n",
       "1568      splice      1         1000             0.05       pair   \n",
       "1569      splice      1         1000             0.10       pair   \n",
       "\n",
       "      flip_rate_fixed  entropy_mean  entropy_variance  ratio_mean  \\\n",
       "0                 0.1      0.834760          0.027324    0.501022   \n",
       "1                 0.1      0.935229          0.005730    0.498111   \n",
       "2                 0.1      0.973792          0.000942    0.496543   \n",
       "3                 0.1      0.880818          0.014377    0.507352   \n",
       "4                 0.1      0.940327          0.003990    0.500893   \n",
       "...               ...           ...               ...         ...   \n",
       "1565              0.9      1.246513          0.049203    0.000000   \n",
       "1566              0.9      1.293344          0.035138    0.000000   \n",
       "1567              0.9      1.258111          0.040965    0.000000   \n",
       "1568              0.9      1.324988          0.018468    0.000000   \n",
       "1569              0.9      1.334967          0.014997    0.000000   \n",
       "\n",
       "      ratio_variance  causal  \n",
       "0           0.052966       0  \n",
       "1           0.021744       0  \n",
       "2           0.008985       0  \n",
       "3           0.039091       0  \n",
       "4           0.020168       0  \n",
       "...              ...     ...  \n",
       "1565        0.000000       1  \n",
       "1566        0.000000       1  \n",
       "1567        0.000000       1  \n",
       "1568        0.000000       1  \n",
       "1569        0.000000       1  \n",
       "\n",
       "[1570 rows x 11 columns]"
      ]
     },
     "execution_count": 4,
     "metadata": {},
     "output_type": "execute_result"
    }
   ],
   "source": [
    "df\n"
   ]
  },
  {
   "cell_type": "code",
   "execution_count": 6,
   "metadata": {
    "notebookRunGroups": {
     "groupValue": "2"
    }
   },
   "outputs": [
    {
     "data": {
      "text/html": [
       "<div>\n",
       "<style scoped>\n",
       "    .dataframe tbody tr th:only-of-type {\n",
       "        vertical-align: middle;\n",
       "    }\n",
       "\n",
       "    .dataframe tbody tr th {\n",
       "        vertical-align: top;\n",
       "    }\n",
       "\n",
       "    .dataframe thead th {\n",
       "        text-align: right;\n",
       "    }\n",
       "</style>\n",
       "<table border=\"1\" class=\"dataframe\">\n",
       "  <thead>\n",
       "    <tr style=\"text-align: right;\">\n",
       "      <th></th>\n",
       "      <th>dataset</th>\n",
       "      <th>pca_k</th>\n",
       "      <th>sample_size</th>\n",
       "      <th>near_percentage</th>\n",
       "      <th>noise_type</th>\n",
       "      <th>flip_rate_fixed</th>\n",
       "      <th>entropy_mean</th>\n",
       "      <th>entropy_variance</th>\n",
       "      <th>ratio_mean</th>\n",
       "      <th>ratio_variance</th>\n",
       "      <th>causal</th>\n",
       "    </tr>\n",
       "  </thead>\n",
       "  <tbody>\n",
       "    <tr>\n",
       "      <th>0</th>\n",
       "      <td>xyguassian</td>\n",
       "      <td>5</td>\n",
       "      <td>200</td>\n",
       "      <td>0.10</td>\n",
       "      <td>sym</td>\n",
       "      <td>0.1</td>\n",
       "      <td>0.834760</td>\n",
       "      <td>0.027324</td>\n",
       "      <td>0.501022</td>\n",
       "      <td>0.052966</td>\n",
       "      <td>0</td>\n",
       "    </tr>\n",
       "    <tr>\n",
       "      <th>1</th>\n",
       "      <td>xyguassian</td>\n",
       "      <td>5</td>\n",
       "      <td>200</td>\n",
       "      <td>0.30</td>\n",
       "      <td>sym</td>\n",
       "      <td>0.1</td>\n",
       "      <td>0.935229</td>\n",
       "      <td>0.005730</td>\n",
       "      <td>0.498111</td>\n",
       "      <td>0.021744</td>\n",
       "      <td>0</td>\n",
       "    </tr>\n",
       "    <tr>\n",
       "      <th>2</th>\n",
       "      <td>xyguassian</td>\n",
       "      <td>5</td>\n",
       "      <td>200</td>\n",
       "      <td>0.50</td>\n",
       "      <td>sym</td>\n",
       "      <td>0.1</td>\n",
       "      <td>0.973792</td>\n",
       "      <td>0.000942</td>\n",
       "      <td>0.496543</td>\n",
       "      <td>0.008985</td>\n",
       "      <td>0</td>\n",
       "    </tr>\n",
       "    <tr>\n",
       "      <th>3</th>\n",
       "      <td>xyguassian</td>\n",
       "      <td>3</td>\n",
       "      <td>200</td>\n",
       "      <td>0.10</td>\n",
       "      <td>sym</td>\n",
       "      <td>0.1</td>\n",
       "      <td>0.880818</td>\n",
       "      <td>0.014377</td>\n",
       "      <td>0.507352</td>\n",
       "      <td>0.039091</td>\n",
       "      <td>0</td>\n",
       "    </tr>\n",
       "    <tr>\n",
       "      <th>4</th>\n",
       "      <td>xyguassian</td>\n",
       "      <td>3</td>\n",
       "      <td>200</td>\n",
       "      <td>0.30</td>\n",
       "      <td>sym</td>\n",
       "      <td>0.1</td>\n",
       "      <td>0.940327</td>\n",
       "      <td>0.003990</td>\n",
       "      <td>0.500893</td>\n",
       "      <td>0.020168</td>\n",
       "      <td>0</td>\n",
       "    </tr>\n",
       "    <tr>\n",
       "      <th>...</th>\n",
       "      <td>...</td>\n",
       "      <td>...</td>\n",
       "      <td>...</td>\n",
       "      <td>...</td>\n",
       "      <td>...</td>\n",
       "      <td>...</td>\n",
       "      <td>...</td>\n",
       "      <td>...</td>\n",
       "      <td>...</td>\n",
       "      <td>...</td>\n",
       "      <td>...</td>\n",
       "    </tr>\n",
       "    <tr>\n",
       "      <th>1565</th>\n",
       "      <td>splice</td>\n",
       "      <td>3</td>\n",
       "      <td>1000</td>\n",
       "      <td>0.05</td>\n",
       "      <td>pair</td>\n",
       "      <td>0.9</td>\n",
       "      <td>1.246513</td>\n",
       "      <td>0.049203</td>\n",
       "      <td>0.000000</td>\n",
       "      <td>0.000000</td>\n",
       "      <td>1</td>\n",
       "    </tr>\n",
       "    <tr>\n",
       "      <th>1566</th>\n",
       "      <td>splice</td>\n",
       "      <td>3</td>\n",
       "      <td>1000</td>\n",
       "      <td>0.10</td>\n",
       "      <td>pair</td>\n",
       "      <td>0.9</td>\n",
       "      <td>1.293344</td>\n",
       "      <td>0.035138</td>\n",
       "      <td>0.000000</td>\n",
       "      <td>0.000000</td>\n",
       "      <td>1</td>\n",
       "    </tr>\n",
       "    <tr>\n",
       "      <th>1567</th>\n",
       "      <td>splice</td>\n",
       "      <td>1</td>\n",
       "      <td>1000</td>\n",
       "      <td>0.01</td>\n",
       "      <td>pair</td>\n",
       "      <td>0.9</td>\n",
       "      <td>1.258111</td>\n",
       "      <td>0.040965</td>\n",
       "      <td>0.000000</td>\n",
       "      <td>0.000000</td>\n",
       "      <td>1</td>\n",
       "    </tr>\n",
       "    <tr>\n",
       "      <th>1568</th>\n",
       "      <td>splice</td>\n",
       "      <td>1</td>\n",
       "      <td>1000</td>\n",
       "      <td>0.05</td>\n",
       "      <td>pair</td>\n",
       "      <td>0.9</td>\n",
       "      <td>1.324988</td>\n",
       "      <td>0.018468</td>\n",
       "      <td>0.000000</td>\n",
       "      <td>0.000000</td>\n",
       "      <td>1</td>\n",
       "    </tr>\n",
       "    <tr>\n",
       "      <th>1569</th>\n",
       "      <td>splice</td>\n",
       "      <td>1</td>\n",
       "      <td>1000</td>\n",
       "      <td>0.10</td>\n",
       "      <td>pair</td>\n",
       "      <td>0.9</td>\n",
       "      <td>1.334967</td>\n",
       "      <td>0.014997</td>\n",
       "      <td>0.000000</td>\n",
       "      <td>0.000000</td>\n",
       "      <td>1</td>\n",
       "    </tr>\n",
       "  </tbody>\n",
       "</table>\n",
       "<p>1570 rows × 11 columns</p>\n",
       "</div>"
      ],
      "text/plain": [
       "         dataset  pca_k  sample_size  near_percentage noise_type  \\\n",
       "0     xyguassian      5          200             0.10        sym   \n",
       "1     xyguassian      5          200             0.30        sym   \n",
       "2     xyguassian      5          200             0.50        sym   \n",
       "3     xyguassian      3          200             0.10        sym   \n",
       "4     xyguassian      3          200             0.30        sym   \n",
       "...          ...    ...          ...              ...        ...   \n",
       "1565      splice      3         1000             0.05       pair   \n",
       "1566      splice      3         1000             0.10       pair   \n",
       "1567      splice      1         1000             0.01       pair   \n",
       "1568      splice      1         1000             0.05       pair   \n",
       "1569      splice      1         1000             0.10       pair   \n",
       "\n",
       "      flip_rate_fixed  entropy_mean  entropy_variance  ratio_mean  \\\n",
       "0                 0.1      0.834760          0.027324    0.501022   \n",
       "1                 0.1      0.935229          0.005730    0.498111   \n",
       "2                 0.1      0.973792          0.000942    0.496543   \n",
       "3                 0.1      0.880818          0.014377    0.507352   \n",
       "4                 0.1      0.940327          0.003990    0.500893   \n",
       "...               ...           ...               ...         ...   \n",
       "1565              0.9      1.246513          0.049203    0.000000   \n",
       "1566              0.9      1.293344          0.035138    0.000000   \n",
       "1567              0.9      1.258111          0.040965    0.000000   \n",
       "1568              0.9      1.324988          0.018468    0.000000   \n",
       "1569              0.9      1.334967          0.014997    0.000000   \n",
       "\n",
       "      ratio_variance  causal  \n",
       "0           0.052966       0  \n",
       "1           0.021744       0  \n",
       "2           0.008985       0  \n",
       "3           0.039091       0  \n",
       "4           0.020168       0  \n",
       "...              ...     ...  \n",
       "1565        0.000000       1  \n",
       "1566        0.000000       1  \n",
       "1567        0.000000       1  \n",
       "1568        0.000000       1  \n",
       "1569        0.000000       1  \n",
       "\n",
       "[1570 rows x 11 columns]"
      ]
     },
     "execution_count": 6,
     "metadata": {},
     "output_type": "execute_result"
    }
   ],
   "source": [
    "df\n",
    "xx=23\n",
    "y=4\n",
    "xx=23+1"
   ]
  },
  {
   "cell_type": "code",
   "execution_count": 1,
   "metadata": {
    "notebookRunGroups": {
     "groupValue": "1"
    },
    "tags": [
     "dasd"
    ]
   },
   "outputs": [],
   "source": [
    "import numpy as np\n",
    "X=np.array([[1,2],[3,4],[5,6]])\n",
    "plt.legend()"
   ]
  }
 ],
 "metadata": {
  "kernelspec": {
   "display_name": "Python 3.8.10 ('base')",
   "language": "python",
   "name": "python3"
  },
  "language_info": {
   "codemirror_mode": {
    "name": "ipython",
    "version": 3
   },
   "file_extension": ".py",
   "mimetype": "text/x-python",
   "name": "python",
   "nbconvert_exporter": "python",
   "pygments_lexer": "ipython3",
   "version": "3.9.13"
  },
  "orig_nbformat": 4,
  "vscode": {
   "interpreter": {
    "hash": "2f394aca7ca06fed1e6064aef884364492d7cdda3614a461e02e6407fc40ba69"
   }
  }
 },
 "nbformat": 4,
 "nbformat_minor": 2
}
