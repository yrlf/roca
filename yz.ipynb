{
 "cells": [
  {
   "cell_type": "code",
   "execution_count": 8,
   "id": "ef2b8b57-04a4-4ec5-8957-fa3c6a7c27e1",
   "metadata": {
    "pycharm": {
     "name": "#%%\n"
    }
   },
   "outputs": [],
   "source": [
    "import argparse\n",
    "from random import seed\n",
    "from mylib.utils import fix_seed\n",
    "from mylib.data.data_loader import load_ucidata\n",
    "\n",
    "import numpy as np\n",
    "from run_dnl import run_dnl\n",
    "import tools\n",
    "import pandas as pd\n",
    "from kmeans import run_kmeans\n",
    "import os\n",
    "import argparse\n",
    "import scipy\n",
    "from sklearn.decomposition import PCA\n",
    "import matplotlib.pyplot as plt\n",
    "%matplotlib inline"
   ]
  },
  {
   "cell_type": "code",
   "execution_count": 3,
   "id": "a81a4f08-4ce0-4520-b257-cd603fe60a02",
   "metadata": {
    "pycharm": {
     "name": "#%%\n"
    }
   },
   "outputs": [],
   "source": [
    "from kmeans import run_kmeans\n",
    "# --- parsing and configuration --- #\n",
    "parser = argparse.ArgumentParser(\n",
    "    description=\"PyTorch implementation of VAE\")\n",
    "parser.add_argument('--batch_size', type=int, default=16,\n",
    "                    help='batch size for training (default: 128)')\n",
    "parser.add_argument('--epochs', type=int, default=10,\n",
    "                    help='number of epochs to train (default: 20)')\n",
    "parser.add_argument('--z_dim', type=int, default=25,\n",
    "                    help='dimension of hidden variable Z (default: 10)')\n",
    "parser.add_argument('--num_hidden_layers', type=int, default=2,\n",
    "                    help='num hidden_layers (default: 0)')\n",
    "parser.add_argument('--flip_rate_fixed', type=float,\n",
    "                    help='fixed flip rates.', default=0.4)\n",
    "parser.add_argument('--train_frac', default=1.0, type=float,\n",
    "                    help='training sample size fraction')\n",
    "parser.add_argument('--noise_type', type=str, default='sym')\n",
    "parser.add_argument('--trainval_split',  default=0.8, type=float,\n",
    "                    help='training set ratio')\n",
    "parser.add_argument('--seed', default=1, type=int,\n",
    "                    help='seed for initializing training')\n",
    "parser.add_argument('--dataset', default=\"krkp\", type=str,\n",
    "                    help='db')\n",
    "parser.add_argument('--select_ratio', default=0, type=float,\n",
    "                    help='confidence example selection ratio')\n",
    "parser.add_argument('--pretrained', default=0, type=int,\n",
    "                    help='using pretrained model or not')\n",
    "\n",
    "\n",
    "# added by yz:\n",
    "parser.add_argument('--pca_k', type=int, default=5,\n",
    "                    help='PCA dimension (default: 5)')\n",
    "parser.add_argument('--sample_size', type=int, default=20,\n",
    "                    help = 'randomly select samples for analysis')                  \n",
    "parser.add_argument('--near_percentage', type=float, default=0.1,\n",
    "                    help='percentage nearby in terms of L2 norm')\n",
    "\n",
    "arch_dict = {\"FashionMNIST\":\"resnet18\",\"cifar10\":\"resnet18\",\"cifar100\":\"resnet34\",\"mnist\":\"Lenet\",\"balancescale\":\"NaiveNet\",\"krkp\":\"NaiveNet\",\"splice\":\"NaiveNet\",\"yxguassian\":\"NaiveNet\"}"
   ]
  },
  {
   "cell_type": "markdown",
   "id": "37097703",
   "metadata": {},
   "source": [
    "# Args"
   ]
  },
  {
   "cell_type": "code",
   "execution_count": 61,
   "id": "14c37b0d-7b9e-4da6-9ae1-c87ba83b60fe",
   "metadata": {
    "pycharm": {
     "name": "#%%\n"
    }
   },
   "outputs": [
    {
     "name": "stdout",
     "output_type": "stream",
     "text": [
      "Namespace(batch_size=16, dataset='yxguassian', epochs=10, flip_rate_fixed=0.4, near_percentage=0.1, noise_type='sym', num_hidden_layers=2, pca_k=5, pretrained=0, sample_size=20, seed=1, select_ratio=0, train_frac=1.0, trainval_split=0.8, z_dim=25)\n",
      "done\n"
     ]
    }
   ],
   "source": [
    "# load dataset\n",
    "args = parser.parse_args(args=['--dataset', 'yxguassian'])\n",
    "base_dir = \"./\"+args.dataset+\"/\"+args.noise_type+str(args.flip_rate_fixed)+\"/\"+str(args.seed)+\"/\"\n",
    "print(args)\n",
    "\n",
    "if args.seed is not None:\n",
    "    fix_seed(args.seed)\n",
    "train_val_loader, train_loader, val_loader, est_loader, test_loader = load_ucidata(\n",
    "    dataset = args.dataset,  \n",
    "    noise_type = args.noise_type,\n",
    "    random_state = args.seed, \n",
    "    batch_size = args.batch_size, \n",
    "    add_noise = True, \n",
    "    flip_rate_fixed = args.flip_rate_fixed, \n",
    "    trainval_split = args.trainval_split,\n",
    "    train_frac = args.train_frac,\n",
    "    augment=False\n",
    ")\n",
    "test_dataset = test_loader.dataset\n",
    "val_dataset = val_loader.dataset\n",
    "\n",
    "train_dataset = train_loader.dataset\n",
    "print(\"done\")"
   ]
  },
  {
   "cell_type": "code",
   "execution_count": 62,
   "id": "1cfb276c",
   "metadata": {},
   "outputs": [],
   "source": [
    "from mylib.data.data_loader.load_ucidata import load_ucidata2\n",
    "\n",
    "\n",
    "\n",
    "noisy_data_list = []\n",
    "noisy_rate_list = np.arange(0.1, 1, 0.1)\n",
    "\n",
    "for rate in noisy_rate_list:\n",
    "    train_loader = load_ucidata2(\n",
    "        dataset = args.dataset,  \n",
    "        noise_type = args.noise_type,\n",
    "        random_state = args.seed, \n",
    "        batch_size = args.batch_size, \n",
    "        add_noise = True, \n",
    "        flip_rate_fixed = rate,\n",
    "        trainval_split = args.trainval_split,\n",
    "        train_frac = args.train_frac,\n",
    "        augment=False\n",
    "    )\n",
    "    \n",
    "    noisy_data_list.append(train_loader.dataset)\n"
   ]
  },
  {
   "cell_type": "markdown",
   "id": "eef69d54-3f35-4632-84b1-08b9aa4303e7",
   "metadata": {},
   "source": [
    "# Method 1"
   ]
  },
  {
   "cell_type": "code",
   "execution_count": 63,
   "id": "839431fe-ead1-4f51-bc8a-a93a41186034",
   "metadata": {},
   "outputs": [],
   "source": [
    "import numpy as np\n",
    "import pandas as pd\n",
    "import matplotlib.pyplot as plt\n",
    "from sklearn.cluster import KMeans, DBSCAN\n",
    "from sklearn.metrics import accuracy_score\n",
    "from cal_acc import *\n",
    "from scipy.optimize import linear_sum_assignment\n",
    "from sklearn.decomposition import PCA\n",
    "\n",
    "def _hungarian_match(flat_preds, flat_targets):\n",
    "    # Based on implementation from IIC\n",
    "    num_samples = flat_targets.shape[0]\n",
    "    v, counts = np.unique(flat_preds, return_counts=True)\n",
    "    \n",
    "    num_k = len(v)\n",
    "    num_correct = np.zeros((num_k, num_k))\n",
    "\n",
    "    for c1 in range(num_k):\n",
    "        for c2 in range(num_k):\n",
    "            # elementwise, so each sample contributes once\n",
    "            votes = int(((flat_preds == c1) * (flat_targets == c2)).sum())\n",
    "            num_correct[c1, c2] = votes\n",
    "\n",
    "    row, col  = linear_sum_assignment(num_samples - num_correct)\n",
    "    return row, col \n",
    "\n",
    "def get_prime_Y(noisy_classes, pred_classes, mappings):\n",
    "    prime_Y = np.zeros(len(noisy_classes))\n",
    "    for i in range(len(pred_classes)):\n",
    "        prime_Y[i] = mappings[pred_classes[i]]\n",
    "\n",
    "    return prime_Y\n",
    "\n",
    "def count_m(noisy_Y, prime_Y):\n",
    "    values, counts = np.unique(prime_Y, return_counts=True)\n",
    "    #print(values)\n",
    "    length = len(values)\n",
    "    m = np.zeros((length,length))\n",
    "    #print(counts)\n",
    "\n",
    "    for i in range(noisy_Y.shape[0]):\n",
    "        m[int(prime_Y[i])][int(noisy_Y[i])]+=1\n",
    "\n",
    "    sum_matrix = np.tile(counts,(len(values),1)).transpose()\n",
    "    #print(sum_matrix)\n",
    "    #print(m/sum_matrix)\n",
    "    return m/sum_matrix\n",
    "\n",
    "# define K-means clustering algorithm\n",
    "def run_kmeans2(dataset):\n",
    "\n",
    "    X = dataset.data\n",
    "    clean_Y = dataset.clean_targets\n",
    "    tilde_Y=dataset.targets\n",
    "    values, counts = np.unique(clean_Y,return_counts=True) \n",
    "\n",
    "    kmeans = KMeans(n_clusters=len(values))\n",
    "    kmeans.fit(X, tilde_Y)\n",
    "    identified_clusters = kmeans.fit_predict(X)\n",
    "\n",
    "    # note that to better match the cluster Id to tilde_Y, \n",
    "    # we could use hat_clean Y which obtained by current noise-robust method, but for the simple dataset , it may not necessary\n",
    "    \n",
    "    idx2 = _hungarian_match(identified_clusters,tilde_Y)\n",
    "    prime_Y = get_prime_Y(tilde_Y, identified_clusters,idx2[1])\n",
    "    # yz: directly return prime_Y without using count_m\n",
    "    return prime_Y\n",
    "    "
   ]
  },
  {
   "cell_type": "code",
   "execution_count": 64,
   "id": "33057ca7-a46c-4019-8bd0-abf2d37f0e0d",
   "metadata": {
    "pycharm": {
     "name": "#%%\n"
    }
   },
   "outputs": [],
   "source": [
    "primeY = run_kmeans2(train_dataset.dataset) # primeY is obtained from K-means unsupervised learning -> we use this as esitmated Clean Y"
   ]
  },
  {
   "cell_type": "code",
   "execution_count": 65,
   "id": "696c8836-3b12-4e12-8930-754c74d07d5a",
   "metadata": {
    "pycharm": {
     "name": "#%%\n"
    }
   },
   "outputs": [],
   "source": [
    "import collections\n",
    "error_list = []\n",
    "for i in range(len(noisy_data_list)):\n",
    "    noisy_data = noisy_data_list[i]\n",
    "    noisy_Y = noisy_data.dataset.targets\n",
    "    res = (primeY==noisy_Y)\n",
    "    count = collections.Counter(res)\n",
    "    error_rate = count[False]/(count[False]+count[True])\n",
    "    error_list.append(error_rate)"
   ]
  },
  {
   "cell_type": "code",
   "execution_count": 67,
   "id": "ed4a4a26",
   "metadata": {
    "collapsed": false,
    "jupyter": {
     "outputs_hidden": false
    },
    "pycharm": {
     "name": "#%%\n"
    }
   },
   "outputs": [],
   "source": [
    "df = pd.concat([pd.DataFrame(noisy_rate_list), pd.DataFrame(error_list)], axis=1)\n",
    "df.columns = ['noisy_rate', 'error_rate']"
   ]
  },
  {
   "cell_type": "code",
   "execution_count": 68,
   "id": "f27ba7e0",
   "metadata": {},
   "outputs": [],
   "source": [
    "df.to_csv('./results/results_method1_error_rate.csv', index=False)"
   ]
  },
  {
   "cell_type": "markdown",
   "id": "0cae4901-f152-49f4-9844-bf9fc1f1f1f6",
   "metadata": {},
   "source": [
    "# Method 2"
   ]
  },
  {
   "cell_type": "code",
   "execution_count": 7,
   "id": "34e23172-bcdb-4334-901f-e61e0e8441c7",
   "metadata": {},
   "outputs": [],
   "source": []
  },
  {
   "cell_type": "code",
   "execution_count": 6,
   "id": "5baead67",
   "metadata": {},
   "outputs": [
    {
     "name": "stdout",
     "output_type": "stream",
     "text": [
      "Namespace(batch_size=16, dataset='yxguassian', epochs=10, flip_rate_fixed=0.4, near_percentage=0.1, noise_type='sym', num_hidden_layers=2, pca_k=5, pretrained=0, sample_size=20, seed=1, select_ratio=0, train_frac=1.0, trainval_split=0.8, z_dim=25)\n",
      "done\n"
     ]
    }
   ],
   "source": [
    "# load dataset\n",
    "args = parser.parse_args(args=['--dataset', 'yxguassian'])\n",
    "base_dir = \"./\"+args.dataset+\"/\"+args.noise_type+str(args.flip_rate_fixed)+\"/\"+str(args.seed)+\"/\"\n",
    "print(args)\n",
    "\n",
    "if args.seed is not None:\n",
    "    fix_seed(args.seed)\n",
    "train_val_loader, train_loader, val_loader, est_loader, test_loader = load_ucidata(\n",
    "    dataset = args.dataset,  \n",
    "    noise_type = args.noise_type,\n",
    "    random_state = args.seed, \n",
    "    batch_size = args.batch_size, \n",
    "    add_noise = True, \n",
    "    flip_rate_fixed = args.flip_rate_fixed, \n",
    "    trainval_split = args.trainval_split,\n",
    "    train_frac = args.train_frac,\n",
    "    augment=False\n",
    ")\n",
    "test_dataset = test_loader.dataset\n",
    "val_dataset = val_loader.dataset\n",
    "\n",
    "train_dataset = train_loader.dataset\n",
    "print(\"done\")"
   ]
  },
  {
   "cell_type": "code",
   "execution_count": 7,
   "id": "859dfdb9-ce34-47cd-876c-43cdcd50ca6b",
   "metadata": {},
   "outputs": [],
   "source": [
    "def runPCA(dataset, n_components):\n",
    "    X = dataset.data\n",
    "    pca = PCA(n_components)\n",
    "    return pca.fit(X)"
   ]
  },
  {
   "cell_type": "code",
   "execution_count": 8,
   "id": "45a1e2e5",
   "metadata": {},
   "outputs": [],
   "source": [
    "# PCA to k Dimension\n",
    "\n",
    "pca = runPCA(train_dataset.dataset, args.pca_k)\n",
    "X_pca = pca.transform(train_dataset.dataset.data)"
   ]
  },
  {
   "cell_type": "code",
   "execution_count": 18,
   "id": "010d4c0e",
   "metadata": {},
   "outputs": [
    {
     "data": {
      "text/plain": [
       "Counter({0: 10150, 1: 9850})"
      ]
     },
     "execution_count": 18,
     "metadata": {},
     "output_type": "execute_result"
    }
   ],
   "source": [
    "\n",
    "pd.DataFrame(X_pca)\n",
    "# randomly select a sample from the dataset\n",
    "from enum import unique\n",
    "import collections\n",
    "\n",
    "import random\n",
    "import math\n"
   ]
  },
  {
   "cell_type": "code",
   "execution_count": 22,
   "id": "e4bb2c2f",
   "metadata": {},
   "outputs": [],
   "source": [
    "\n",
    "# set random state to args.seed\n",
    "\n",
    "random.seed(args.seed)\n",
    "\n",
    "iteration_number = args.sample_size\n",
    "perc_closest = args.near_percentage\n",
    "\n",
    "def entropy(labels):\n",
    "    freqdist = collections.Counter(labels)\n",
    "    probs = [freqdist[label] / len(labels) for label in freqdist]\n",
    "    return -sum(p * math.log(p, 2) for p in probs)\n",
    "\n",
    "if len(np.unique(train_dataset.dataset.targets))==2:\n",
    "    is_binary = True\n",
    "else:\n",
    "    is_binary = False\n",
    "\n",
    "random_index_list = []\n",
    "entropy_list = []\n",
    "ratio_list =[]\n",
    "for i in range(iteration_number):\n",
    "\n",
    "    \n",
    "    while (1):\n",
    "        random_index = random.randint(0, len(train_dataset.dataset.data))\n",
    "        if (random_index not in random_index_list):\n",
    "            random_index_list.append(random_index)\n",
    "            break\n",
    "    \n",
    "    l2_norm = np.linalg.norm(X_pca - X_pca[random_index], axis=1)\n",
    "    # find the index of examples that are close to the randomly selected example\n",
    "    close_samples_index = np.argsort(l2_norm)[:int(len(train_dataset.dataset.data)*perc_closest)]\n",
    "    # calculate the entropy among these samples\n",
    "    close_entropy = entropy(train_dataset.dataset.targets[close_samples_index])\n",
    "    entropy_list.append(close_entropy)\n",
    "\n",
    "    # for binary labels, calculate the ratio of count the unique values of targets\n",
    "    if (is_binary == True):\n",
    "        unique, counts = np.unique(train_dataset.dataset.targets[close_samples_index], return_counts=True)\n",
    "        ratio = counts[0]/(counts[0]+counts[1])\n",
    "        ratio_list.append(ratio)\n",
    "    else:\n",
    "        ratio_list.append(0)\n",
    "    \n",
    "# concatenate the random index, entropy and ratio lists into a dataframe\n",
    "df = pd.DataFrame(list(zip(random_index_list, entropy_list, ratio_list)), columns =['random_index', 'entropy', 'class0_ratio'])\n",
    "\n",
    "k=5"
   ]
  },
  {
   "cell_type": "code",
   "execution_count": 23,
   "id": "5021dd0a",
   "metadata": {},
   "outputs": [
    {
     "data": {
      "image/png": "[encoded data removed]",
      "text/plain": [
       "<Figure size 432x288 with 2 Axes>"
      ]
     },
     "metadata": {
      "needs_background": "light"
     },
     "output_type": "display_data"
    },
    {
     "data": {
      "text/plain": [
       "'./results/yxguassian_PCA_5_random_20_near_0.1_sym_0.4_noise.png'"
      ]
     },
     "execution_count": 23,
     "metadata": {},
     "output_type": "execute_result"
    }
   ],
   "source": [
    "y_axis_label_left = \"Entropy\"\n",
    "y_axis_label_right = \"Ratio of class 0\"\n",
    "title = \"PCA (k=\"+str(k)+\") on \"+args.dataset+\" dataset\"+\" with \"+str(args.flip_rate_fixed)+\" \"+str(args.noise_type)+\" noise\"+'\\n' + \"Randomly selected \"+str(iteration_number)+\" samples within \"+str(perc_closest*100)+\"% of its neighbors (L2 norm)\"\n",
    "\n",
    "# create figure and axis objects with subplots()\n",
    "fig,ax = plt.subplots()\n",
    "# make a plot\n",
    "ax.plot(df.index,\n",
    "        df.entropy,\n",
    "        color=\"red\", \n",
    "        marker=\"o\")\n",
    "# set x-axis label\n",
    "ax.set_xlabel(\"random samples\", fontsize = 14)\n",
    "# set y-axis label\n",
    "ax.set_ylabel(y_axis_label_left,\n",
    "              color=\"red\",\n",
    "              fontsize=14)\n",
    "\n",
    "# twin object for two different y-axis on the sample plot\n",
    "ax2=ax.twinx()\n",
    "# make a plot with different y-axis using second axis object\n",
    "ax2.plot(df.index, df.class0_ratio,color=\"blue\",marker=\"o\")\n",
    "ax2.set_ylabel(y_axis_label_right,color=\"blue\",fontsize=14)\n",
    "\n",
    "ax.set_ylim(0,1.1)\n",
    "ax2.set_ylim(0,1.1)\n",
    "plt.title (title)\n",
    "plt.show()\n",
    "\n",
    "# save the plot as a file\n",
    "\n",
    "output_path = \"./results/\"+str(args.dataset)+\"_PCA_\"+str(args.pca_k)+\"_random_\"+str(args.sample_size)+\"_near_\"+str(perc_closest)+\"_\"+str(args.noise_type)+\"_\"+str(args.flip_rate_fixed)+\"_noise\"+\".png\"\n",
    "fig.savefig(output_path,\n",
    "            format='jpeg',\n",
    "            dpi=100,\n",
    "            bbox_inches='tight')\n",
    "            \n",
    "output_path\n"
   ]
  },
  {
   "cell_type": "code",
   "execution_count": 41,
   "id": "63cd243c",
   "metadata": {},
   "outputs": [],
   "source": [
    "from inspect import Parameter\n",
    "import csv\n",
    "import time\n",
    "df['entropy'].var()\n",
    "df['class0_ratio'].var()\n",
    "\n",
    "# create csv file\n",
    "output_filename = \"./results/pca_results.csv\"\n",
    "# with open(output_path, 'a', newline = '') as file:\n",
    "#     writer = csv.writer(file)\n",
    "#     writer.writerow([\"dataset\", \"pca_k\", \"sample_size\", \"near_percentage\", \"noise_type\", \"flip_rate_fixed\", \"entropy_mean\",\"entropy_variance\", \"ratio_mean\", \"ratio_variance\"])"
   ]
  },
  {
   "cell_type": "code",
   "execution_count": null,
   "id": "84210d17",
   "metadata": {},
   "outputs": [],
   "source": [
    "k = args.pca_k\n",
    "\n",
    "# write to each column of csv file\n",
    "\n",
    "\n",
    "with open(output_path, 'a', newline='') as file:\n",
    "    writer = csv.writer(file)\n",
    "    writer.writerow([args.dataset,args.pca_k, args.sample_size, perc_closest, args.noise_type, args.flip_rate_fixed, df['entropy'].mean(), df['entropy'].var(), df['class0_ratio'].mean(), df['class0_ratio'].var()])\n",
    "\n"
   ]
  },
  {
   "cell_type": "code",
   "execution_count": 38,
   "id": "378b9a79",
   "metadata": {},
   "outputs": [
    {
     "data": {
      "text/plain": [
       "array([10233, 11531,  2060, 16039,  8626, 13308, 17379, 17177, 19088])"
      ]
     },
     "execution_count": 38,
     "metadata": {},
     "output_type": "execute_result"
    }
   ],
   "source": [
    "closest_index[1:10]\n"
   ]
  },
  {
   "cell_type": "code",
   "execution_count": null,
   "id": "fc9c0167",
   "metadata": {},
   "outputs": [],
   "source": [
    "\n",
    "# calculate l2 norm between the sample and all other samples\n",
    "import numpy as np\n",
    "\n",
    "# calculate the top 10 closest samples\n",
    "top10 = np.argsort(l2_norm)[:10]\n",
    "print(top10)\n",
    "\n",
    "# calculate entropy with the top 10 closest samples\n",
    "import collections\n",
    "import math\n",
    "def entropy(labels):\n",
    "    freqdist = collections.Counter(labels)\n",
    "    probs = [freqdist[label] / len(labels) for label in freqdist]\n",
    "    return -sum(p * math.log(p, 2) for p in probs)\n",
    "\n",
    "print(entropy(train_dataset.dataset.targets[top10]))"
   ]
  },
  {
   "cell_type": "code",
   "execution_count": 11,
   "id": "2244fbb8",
   "metadata": {},
   "outputs": [
    {
     "data": {
      "text/plain": [
       "20000"
      ]
     },
     "execution_count": 11,
     "metadata": {},
     "output_type": "execute_result"
    }
   ],
   "source": [
    "len(l2_norm)"
   ]
  },
  {
   "cell_type": "code",
   "execution_count": 12,
   "id": "4abd01ad-4f39-4ead-9bdf-61199532d99f",
   "metadata": {},
   "outputs": [],
   "source": [
    "# PCA to 1D\n",
    "pca1 = runPCA(train_dataset.dataset,1)\n",
    "X1d=pca1.transform(train_dataset.dataset.data)"
   ]
  },
  {
   "cell_type": "code",
   "execution_count": 13,
   "id": "7e1b0ef2-3c4e-4874-9ab1-40561f14353b",
   "metadata": {},
   "outputs": [
    {
     "name": "stderr",
     "output_type": "stream",
     "text": [
      "No handles with labels found to put in legend.\n"
     ]
    },
    {
     "data": {
      "image/png": "[encoded data removed]",
      "text/plain": [
       "<Figure size 432x288 with 1 Axes>"
      ]
     },
     "metadata": {
      "needs_background": "light"
     },
     "output_type": "display_data"
    }
   ],
   "source": [
    "# visulize X 1D\n",
    "# color indicate true label\n",
    "scatter_x = X1d[:,0]\n",
    "scatter_y = train_dataset.dataset.targets\n",
    "clean_label = train_dataset.dataset.clean_targets\n",
    "cdict = {0:'red',1:'blue'} # correct label : blue, incorrect label : red\n",
    "\n",
    "fig, ax = plt.subplots()\n",
    "for i in range(len(scatter_x)):\n",
    "    if scatter_y[i]==clean_label[i]:\n",
    "        ax.scatter(scatter_x[i],scatter_y[i], c=cdict[1], marker='o')\n",
    "    else:\n",
    "        ax.scatter(scatter_x[i],scatter_y[i],c=cdict[0], marker='o')\n",
    "ax.legend()\n",
    "plt.show()"
   ]
  },
  {
   "cell_type": "code",
   "execution_count": 110,
   "id": "4adf7d52",
   "metadata": {},
   "outputs": [
    {
     "data": {
      "text/plain": [
       "True     11966\n",
       "False     8034\n",
       "Name: correct, dtype: int64"
      ]
     },
     "execution_count": 110,
     "metadata": {},
     "output_type": "execute_result"
    }
   ],
   "source": [
    "import collections\n",
    "import pandas as pd\n",
    "#collections.Counter(train_dataset.dataset.targets == train_dataset.dataset.clean_targets)\n",
    "\n",
    "df=pd.concat([pd.DataFrame(X1d),pd.DataFrame(train_dataset.dataset.targets),pd.DataFrame(train_dataset.dataset.clean_targets)],axis=1)\n",
    "df.columns=['x1d','noise_y','clean_y']\n",
    "df.sort_values(by=['x1d'],inplace=True)\n",
    "df['correct'] = df['noise_y']==df['clean_y']\n",
    "\n",
    "df['correct'].value_counts()\n"
   ]
  },
  {
   "cell_type": "code",
   "execution_count": null,
   "id": "c3b70797",
   "metadata": {},
   "outputs": [],
   "source": [
    "\n",
    "window = 1\n",
    "start = int(df['x1d'].min())\n",
    "end = int(df['x1d'].max())\n",
    "\n",
    "\n",
    "\n",
    "def get_error_rate(df,window,start,end):\n",
    "    ratio = []\n",
    "    i=start\n",
    "    while(i<end):\n",
    "        class1 = len(df.loc[(df['x1d']>=i) & (df['x1d']<i+window) & (df['noise_y']==1)])\n",
    "        class0 = len(df.loc[(df['x1d']>=i) & (df['x1d']<i+window) & (df['noise_y']==0)])\n",
    "        \n",
    "        ratio.append(class1/(class1+class0))\n",
    "        #error_rate.append( (df.loc[(df['x1d']>=i) & (df['x1d']<i+window),'correct'].value_counts()[0])/(df.loc[(df['x1d']>=i) & (df['x1d']<i+window),'correct'].value_counts().sum()) )\n",
    "        i+=window\n",
    "    return ratio\n",
    "\n"
   ]
  },
  {
   "cell_type": "code",
   "execution_count": null,
   "id": "3dc2fa40",
   "metadata": {},
   "outputs": [
    {
     "data": {
      "image/png": "[encoded data removed]",
      "text/plain": [
       "<Figure size 432x288 with 1 Axes>"
      ]
     },
     "metadata": {
      "needs_background": "light"
     },
     "output_type": "display_data"
    }
   ],
   "source": [
    "window=(end-start)/20\n",
    "df_res = pd.DataFrame(get_error_rate(df,window,start,end))\n",
    "plt.plot(df_res)\n",
    "plt.scatter(df_res.index,df_res[0],c='red')\n",
    "plt.ylim(0,1)\n",
    "plt.show()\n"
   ]
  }
 ],
 "metadata": {
  "kernelspec": {
   "display_name": "Python 3.9.13 ('base')",
   "language": "python",
   "name": "python3"
  },
  "language_info": {
   "codemirror_mode": {
    "name": "ipython",
    "version": 3
   },
   "file_extension": ".py",
   "mimetype": "text/x-python",
   "name": "python",
   "nbconvert_exporter": "python",
   "pygments_lexer": "ipython3",
   "version": "3.9.13"
  },
  "toc-autonumbering": true,
  "toc-showcode": false,
  "toc-showtags": false,
  "vscode": {
   "interpreter": {
    "hash": "c3591addd683510cbadcaedbdce8279f658b9485bf1a32480da690c72c37168e"
   }
  }
 },
 "nbformat": 4,
 "nbformat_minor": 5
}
